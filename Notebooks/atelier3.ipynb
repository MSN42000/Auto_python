{
 "cells": [
  {
   "cell_type": "markdown",
   "metadata": {},
   "source": [
    "# Atelier Progressif : Python Orienté Objet Avancé"
   ]
  },
  {
   "cell_type": "markdown",
   "metadata": {},
   "source": [
    "### Exercice 1. Création de classes et d'objets\n",
    "Crée une classe Personne avec les attributs nom, âge, et ville. Ajoute un constructeur pour initialiser ces attributs et une méthode afficher_informations qui affiche les détails d'une personne.\n"
   ]
  },
  {
   "cell_type": "code",
   "execution_count": 186,
   "metadata": {},
   "outputs": [],
   "source": [
    "class Personne:\n",
    "    def __init__(self, nom: str, age: int, ville: str) -> None:\n",
    "        self.nom = nom\n",
    "        self.age = age\n",
    "        self.ville = ville\n",
    "    \n",
    "    def __str__(self) -> str:\n",
    "        return f\"Personne {{ nom : {self.nom}, age : {self.age}, ville : {self.ville}}}\"\n",
    "    "
   ]
  },
  {
   "cell_type": "code",
   "execution_count": 187,
   "metadata": {},
   "outputs": [
    {
     "name": "stdout",
     "output_type": "stream",
     "text": [
      "Personne { nom : Alice, age : 24, ville : Paris}\n"
     ]
    }
   ],
   "source": [
    "personne1 = Personne(\"Alice\", 24, \"Paris\")\n",
    "print(personne1)"
   ]
  },
  {
   "cell_type": "markdown",
   "metadata": {},
   "source": [
    "### Exercice 2. Gestion des attributs\n",
    "Ajoute un attribut profession à la classe Personne qui est initialisé par défaut à \"Inconnue\". Modifie cet attribut pour un objet spécifique via une méthode modifier_profession."
   ]
  },
  {
   "cell_type": "code",
   "execution_count": 188,
   "metadata": {},
   "outputs": [],
   "source": [
    "class Personne:\n",
    "    def __init__(self, nom: str, age: int, ville: str, profession: str = \"Inconnue\") -> None:\n",
    "        self.nom = nom\n",
    "        self.age = age\n",
    "        self.ville = ville\n",
    "        self.profession = profession\n",
    "    \n",
    "    def __str__(self) -> str:\n",
    "        return f\"Personne {{ nom : {self.nom}, age : {self.age}, ville : {self.ville}, profession : {self.profession} }}\"\n",
    "    "
   ]
  },
  {
   "cell_type": "code",
   "execution_count": 189,
   "metadata": {},
   "outputs": [
    {
     "name": "stdout",
     "output_type": "stream",
     "text": [
      "Personne { nom : Alice, age : 24, ville : Paris, profession : Inconnue }\n",
      "Personne { nom : Mat, age : 35, ville : Marseille, profession : Policier }\n"
     ]
    }
   ],
   "source": [
    "personne1 = Personne(\"Alice\", 24, \"Paris\")\n",
    "personne2 = Personne(\"Mat\", 35, \"Marseille\", \"Policier\")\n",
    "print(personne1)\n",
    "print(personne2)"
   ]
  },
  {
   "cell_type": "markdown",
   "metadata": {},
   "source": [
    "### Exercice 3. Interaction entre objets\n",
    "Crée une classe Adresse avec les attributs rue, code_postal, et ville. Modifie la classe Personne pour inclure un attribut adresse (instance de la classe Adresse). Implémente une méthode pour afficher les informations complètes d'une personne avec son adresse."
   ]
  },
  {
   "cell_type": "code",
   "execution_count": 190,
   "metadata": {},
   "outputs": [],
   "source": [
    "class Adresse:\n",
    "    def __init__(self, rue: str, code_postal: str, ville: str) -> None:\n",
    "        self.rue = rue\n",
    "        self.code_postal = code_postal\n",
    "        self.ville = ville\n",
    "    \n",
    "    def __str__(self) -> str:\n",
    "        return f\"{self.rue}, {self.code_postal} {self.ville}\""
   ]
  },
  {
   "cell_type": "code",
   "execution_count": 191,
   "metadata": {},
   "outputs": [],
   "source": [
    "class Personne:\n",
    "    def __init__(self, nom: str, age: int, adresse: Adresse, profession: str = \"Inconnue\") -> None:\n",
    "        self.nom = nom\n",
    "        self.age = age\n",
    "        self.profession = profession\n",
    "        self.adresse = adresse\n",
    "    \"\"\"\n",
    "    def afficher_informations(self) -> str:\n",
    "        return (f\"Personne {{ nom : {self.nom}, age : {self.age}, profession : {self.profession}, adresse : {self.adresse} }}\")\n",
    "    \"\"\"\n",
    "    def __str__(self) -> str:\n",
    "        return f\"Personne {{ nom : {self.nom}, age : {self.age}, profession : {self.profession}, adresse : {self.adresse} }}\""
   ]
  },
  {
   "cell_type": "code",
   "execution_count": 192,
   "metadata": {},
   "outputs": [
    {
     "name": "stdout",
     "output_type": "stream",
     "text": [
      "Personne { nom : Jean, age : 30, profession : Ingénieur, adresse : 123 Rue de Paris, 75001 Paris }\n"
     ]
    }
   ],
   "source": [
    "adresse3 = Adresse(\"123 Rue de Paris\", \"75001\", \"Paris\")\n",
    "personne3 = Personne(\"Jean\", 30, adresse3, \"Ingénieur\")\n",
    "\n",
    "# print(personne3.afficher_informations_completes())\n",
    "print(personne3)"
   ]
  },
  {
   "cell_type": "markdown",
   "metadata": {},
   "source": [
    "### Exercice 4. Encapsulation des attributs\n",
    "Modifie la classe Personne pour rendre les attributs nom et âge privés. Ajoute des getters et setters pour y accéder et les modifier."
   ]
  },
  {
   "cell_type": "code",
   "execution_count": 193,
   "metadata": {},
   "outputs": [],
   "source": [
    "class Personne:\n",
    "    def __init__(self, nom: str, age: int, adresse: Adresse, profession: str = \"Inconnue\") -> None:\n",
    "        self._nom = nom\n",
    "        self._age = age\n",
    "        self.profession = profession\n",
    "        self.adresse = adresse\n",
    "    \n",
    "    @property\n",
    "    def nom(self) -> str:\n",
    "        return self._nom\n",
    "\n",
    "    @property\n",
    "    def age(self) -> int:\n",
    "        return self._age\n",
    "    \n",
    "    @nom.setter\n",
    "    def nom(self, nom: str) -> None:\n",
    "        self._nom = nom\n",
    "\n",
    "    @age.setter\n",
    "    def age(self, age: int) -> None:\n",
    "        self._age = age\n",
    "    \n",
    "    def __str__(self) -> str:\n",
    "        return f\"Personne {{ nom : {self._nom}, age : {self._age}, profession : {self.profession}, adresse : {self.adresse} }}\"\n"
   ]
  },
  {
   "cell_type": "code",
   "execution_count": 194,
   "metadata": {},
   "outputs": [
    {
     "name": "stdout",
     "output_type": "stream",
     "text": [
      "Alice\n",
      "Bob\n",
      "Personne { nom : Bob, age : 30, profession : Inconnue, adresse : 123 Rue Principale, Paris 75000 }\n"
     ]
    }
   ],
   "source": [
    "adresse = Adresse(\"123 Rue Principale\", \"Paris\", \"75000\")\n",
    "\n",
    "personne = Personne(\"Alice\", 30, adresse)\n",
    "\n",
    "print(personne.nom)\n",
    "personne.nom = \"Bob\"\n",
    "print(personne.nom)\n",
    "\n",
    "print(personne)"
   ]
  },
  {
   "cell_type": "markdown",
   "metadata": {},
   "source": [
    "### Exercice 5. Méthodes statiques\n",
    "Ajoute une méthode statique est_majeur dans la classe Personne qui prend un âge en paramètre et retourne True si l'âge est supérieur ou égal à 18, et False sinon.\n"
   ]
  },
  {
   "cell_type": "code",
   "execution_count": 195,
   "metadata": {},
   "outputs": [],
   "source": [
    "class Personne:\n",
    "    def __init__(self, nom: str, age: int, adresse: Adresse, profession: str = \"Inconnue\") -> None:\n",
    "        self._nom = nom\n",
    "        self._age = age\n",
    "        self.profession = profession\n",
    "        self.adresse = adresse\n",
    "    \n",
    "    @property\n",
    "    def nom(self) -> str:\n",
    "        return self._nom\n",
    "\n",
    "    @property\n",
    "    def age(self) -> int:\n",
    "        return self._age\n",
    "    \n",
    "    @nom.setter\n",
    "    def nom(self, nom: str) -> None:\n",
    "        self._nom = nom\n",
    "\n",
    "    @age.setter\n",
    "    def age(self, age: int) -> None:\n",
    "        self._age = age\n",
    "    \n",
    "    @staticmethod\n",
    "    def est_majeur(age: int) -> bool:\n",
    "        return age >= 18\n",
    "\n",
    "    def __str__(self) -> str:\n",
    "        return f\"Personne {{ nom : {self._nom}, age : {self._age}, profession : {self.profession}, adresse : {self.adresse} }}\""
   ]
  },
  {
   "cell_type": "code",
   "execution_count": 196,
   "metadata": {},
   "outputs": [
    {
     "name": "stdout",
     "output_type": "stream",
     "text": [
      "True\n",
      "False\n"
     ]
    }
   ],
   "source": [
    "print(Personne.est_majeur(20))\n",
    "print(Personne.est_majeur(16))"
   ]
  },
  {
   "cell_type": "markdown",
   "metadata": {},
   "source": [
    "### Exercice 6. Méthode de classe\n",
    "Ajoute une méthode de classe creer_personne_vide qui retourne une instance de Personne avec des valeurs par défaut (nom=\"Inconnu\", âge=0, ville=\"Inconnue\")."
   ]
  },
  {
   "cell_type": "code",
   "execution_count": 197,
   "metadata": {},
   "outputs": [],
   "source": [
    "class Personne:\n",
    "    def __init__(self, nom: str, age: int, adresse: Adresse, profession: str = \"Inconnue\") -> None:\n",
    "        self._nom = nom\n",
    "        self._age = age\n",
    "        self.profession = profession\n",
    "        self.adresse = adresse\n",
    "    \n",
    "    @property\n",
    "    def nom(self) -> str:\n",
    "        return self._nom\n",
    "\n",
    "    @property\n",
    "    def age(self) -> int:\n",
    "        return self._age\n",
    "    \n",
    "    @nom.setter\n",
    "    def nom(self, nom: str) -> None:\n",
    "        self._nom = nom\n",
    "\n",
    "    @age.setter\n",
    "    def age(self, age: int) -> None:\n",
    "        self._age = age\n",
    "    \n",
    "    @staticmethod\n",
    "    def est_majeur(age: int) -> bool:\n",
    "        return age >= 18\n",
    "    \n",
    "    @classmethod\n",
    "    def creer_personne_vide(cls) -> Personne:\n",
    "        adresse_vide = Adresse(rue= \"Inconnue\", code_postal= \"00000\", ville= \"Inconnue\")\n",
    "        return Personne(nom=\"Inconnu\",age= 0 ,adresse= adresse_vide)\n",
    "\n",
    "    def __str__(self) -> str:\n",
    "        return f\"Personne {{ nom : {self._nom}, age : {self._age}, profession : {self.profession}, adresse : {self.adresse} }}\""
   ]
  },
  {
   "cell_type": "code",
   "execution_count": 198,
   "metadata": {},
   "outputs": [
    {
     "name": "stdout",
     "output_type": "stream",
     "text": [
      "Personne { nom : Inconnu, age : 0, profession : Inconnue, adresse : Inconnue, 00000 Inconnue }\n"
     ]
    }
   ],
   "source": [
    "personne_vide = Personne.creer_personne_vide()\n",
    "print(personne_vide)"
   ]
  },
  {
   "cell_type": "markdown",
   "metadata": {},
   "source": [
    "### Exercice 7. Héritage - Classe simple\n",
    "Crée une classe Etudiant qui hérite de la classe Personne. Ajoute un attribut niveau_etudes et une méthode afficher_etudes qui affiche le niveau d'études."
   ]
  },
  {
   "cell_type": "code",
   "execution_count": 199,
   "metadata": {},
   "outputs": [],
   "source": [
    "class Etudiant(Personne):\n",
    "    def __init__(self, nom: str, age: int, adresse: Adresse, niveau_etudes: str, profession: str = \"Etudiant\") -> None:\n",
    "        super().__init__(nom, age, adresse, profession)\n",
    "        self.niveau_etudes = niveau_etudes\n",
    "\n",
    "    def afficher_etudes(self) -> None:\n",
    "        print(f\"{self.nom} est actuellement en {self.niveau_etudes}.\")\n",
    "\n",
    "    def __str__(self) -> str:\n",
    "        return f\"Etudiant {{ nom : {self.nom}, age : {self.age}, niveau d'études : {self.niveau_etudes}, adresse : {self.adresse} }}\""
   ]
  },
  {
   "cell_type": "code",
   "execution_count": 200,
   "metadata": {},
   "outputs": [
    {
     "name": "stdout",
     "output_type": "stream",
     "text": [
      "Alice est actuellement en Licence Informatique.\n",
      "Etudiant { nom : Alice, age : 20, niveau d'études : Licence Informatique, adresse : 10 rue de l'Université, 75005 Paris }\n"
     ]
    }
   ],
   "source": [
    "adresse_etudiant = Adresse(\"10 rue de l'Université\", \"75005\", \"Paris\")\n",
    "etudiant = Etudiant(\"Alice\", 20, adresse_etudiant, \"Licence Informatique\")\n",
    "etudiant.afficher_etudes()\n",
    "print(etudiant)"
   ]
  },
  {
   "cell_type": "markdown",
   "metadata": {},
   "source": [
    "### Exercice 8. Héritage - Méthodes redéfinies\n",
    "Redéfinis la méthode afficher_informations dans la classe Etudiant pour inclure le niveau d'études en plus des informations de la personne."
   ]
  },
  {
   "cell_type": "code",
   "execution_count": 201,
   "metadata": {},
   "outputs": [],
   "source": [
    "class Personne:\n",
    "    def __init__(self, nom: str, age: int, adresse: Adresse, profession: str = \"Inconnue\") -> None:\n",
    "        self._nom = nom\n",
    "        self._age = age\n",
    "        self.profession = profession\n",
    "        self.adresse = adresse\n",
    "    \n",
    "    @property\n",
    "    def nom(self) -> str:\n",
    "        return self._nom\n",
    "\n",
    "    @property\n",
    "    def age(self) -> int:\n",
    "        return self._age\n",
    "    \n",
    "    @nom.setter\n",
    "    def nom(self, nom: str) -> None:\n",
    "        self._nom = nom\n",
    "\n",
    "    @age.setter\n",
    "    def age(self, age: int) -> None:\n",
    "        self._age = age\n",
    "    \n",
    "    @staticmethod\n",
    "    def est_majeur(age: int) -> bool:\n",
    "        return age >= 18\n",
    "    \n",
    "    @classmethod\n",
    "    def creer_personne_vide(cls) -> Personne:\n",
    "        adresse_vide = Adresse(rue= \"Inconnue\", code_postal= \"00000\", ville= \"Inconnue\")\n",
    "        return Personne(nom=\"Inconnu\",age= 0 ,adresse= adresse_vide)\n",
    "    \n",
    "    def afficher_informations(self) -> str:\n",
    "        return (f\"nom : {self.nom}, age : {self.age}, profession : {self.profession}, adresse : {self.adresse}\")\n",
    "\n",
    "    def __str__(self) -> str:\n",
    "        return f\"Personne {{ nom : {self._nom}, age : {self._age}, profession : {self.profession}, adresse : {self.adresse} }}\""
   ]
  },
  {
   "cell_type": "code",
   "execution_count": 202,
   "metadata": {},
   "outputs": [],
   "source": [
    "class Etudiant(Personne):\n",
    "    def __init__(self, nom: str, age: int, adresse: Adresse, niveau_etudes: str, profession: str = \"Etudiant\") -> None:\n",
    "        super().__init__(nom, age, adresse, profession)\n",
    "        self.niveau_etudes = niveau_etudes\n",
    "\n",
    "    def afficher_etudes(self) -> None:\n",
    "        print(f\"{self.nom} est actuellement en {self.niveau_etudes}.\")\n",
    "\n",
    "    def afficher_informations(self) -> str:\n",
    "        return super().afficher_informations() + f\", niveau d'études : {self.niveau_etudes}\"\n",
    "\n",
    "\n",
    "    def __str__(self) -> str:\n",
    "        return f\"Etudiant {{ nom : {self.nom}, age : {self.age}, niveau d'études : {self.niveau_etudes}, adresse : {self.adresse} }}\""
   ]
  },
  {
   "cell_type": "code",
   "execution_count": 203,
   "metadata": {},
   "outputs": [
    {
     "name": "stdout",
     "output_type": "stream",
     "text": [
      "nom : Alice, age : 20, profession : Etudiant, adresse : 10 rue de l'Université, 75005 Paris, niveau d'études : Licence Informatique\n",
      "Etudiant { nom : Alice, age : 20, niveau d'études : Licence Informatique, adresse : 10 rue de l'Université, 75005 Paris }\n"
     ]
    }
   ],
   "source": [
    "adresse_etudiant = Adresse(\"10 rue de l'Université\", \"75005\", \"Paris\")\n",
    "etudiant = Etudiant(\"Alice\", 20, adresse_etudiant, \"Licence Informatique\")\n",
    "print(etudiant.afficher_informations())\n",
    "print(etudiant)"
   ]
  },
  {
   "cell_type": "markdown",
   "metadata": {},
   "source": [
    "### Exercice 9. Héritage multiple\n",
    "Crée une classe Employe qui hérite de Personne. Ajoute un attribut salaire et une méthode afficher_salaire. Ensuite, crée une classe EtudiantEmploye qui hérite à la fois de Etudiant et Employe. Vérifie les conflits d'héritage si la méthode afficher_informations existe dans les deux parents."
   ]
  },
  {
   "cell_type": "code",
   "execution_count": 204,
   "metadata": {},
   "outputs": [],
   "source": [
    "class Employe(Personne):\n",
    "    def __init__(self, nom: str, age: int, adresse: Adresse, salaire: float, profession: str = \"Employé\") -> None:\n",
    "        super().__init__(nom, age, adresse, profession)\n",
    "        self.salaire = salaire\n",
    "\n",
    "    def afficher_salaire(self) -> None:\n",
    "        print(f\"{self.nom} gagne un salaire de {self.salaire} €.\")\n",
    "\n",
    "    def afficher_informations(self) -> str:\n",
    "        return super().afficher_informations() + f\", salaire : {self.salaire} €\"\n",
    "\n",
    "    def __str__(self) -> str:\n",
    "        return f\"Employé {{ nom : {self.nom}, age : {self.age}, salaire : {self.salaire} €, adresse : {self.adresse} }}\"\n"
   ]
  },
  {
   "cell_type": "code",
   "execution_count": 205,
   "metadata": {},
   "outputs": [],
   "source": [
    "class EtudiantEmploye(Etudiant, Employe):\n",
    "    def __init__(self, nom: str, age: int, adresse: Adresse, niveau_etudes: str, salaire: float) -> None:\n",
    "        Etudiant.__init__(self, nom, age, adresse, niveau_etudes)\n",
    "        Employe.__init__(self, nom, age, adresse, salaire)\n",
    "\n",
    "    def afficher_informations(self) -> str:\n",
    "        return Etudiant.afficher_informations(self)+ f\", salaire : {self.salaire} €\"\n",
    "\n",
    "    def __str__(self) -> str:\n",
    "        return f\"EtudiantEmploye {{ nom : {self.nom}, age : {self.age}, niveau d'études : {self.niveau_etudes}, salaire : {self.salaire} €, adresse : {self.adresse} }}\"\n"
   ]
  },
  {
   "cell_type": "code",
   "execution_count": 206,
   "metadata": {},
   "outputs": [
    {
     "name": "stdout",
     "output_type": "stream",
     "text": [
      "nom : Bob, age : 25, profession : Employé, adresse : 15 rue de l'Industrie, 75012 Paris, salaire : 2500 €, niveau d'études : Master Informatique, salaire : 2500 €\n"
     ]
    }
   ],
   "source": [
    "adresse_etudiant_employe = Adresse(\"15 rue de l'Industrie\", \"75012\", \"Paris\")\n",
    "etudiant_employe = EtudiantEmploye(\"Bob\", 25, adresse_etudiant_employe, \"Master Informatique\", 2500)\n",
    "\n",
    "print(etudiant_employe.afficher_informations())"
   ]
  },
  {
   "cell_type": "markdown",
   "metadata": {},
   "source": [
    "### Exercice 10. Polymorphisme par inclusion\n",
    "Crée une méthode générique presentation qui accepte un objet de type Personne et affiche les informations de l'objet. Teste la méthode avec des instances de Personne, Etudiant, et Employe."
   ]
  },
  {
   "cell_type": "code",
   "execution_count": 207,
   "metadata": {},
   "outputs": [],
   "source": [
    "def presentation(personne: Personne) -> None :\n",
    "    print(personne.afficher_informations())"
   ]
  },
  {
   "cell_type": "code",
   "execution_count": 208,
   "metadata": {},
   "outputs": [
    {
     "name": "stdout",
     "output_type": "stream",
     "text": [
      "Présentation de la personne :\n",
      "nom : Alice, age : 30, profession : Inconnue, adresse : 15 rue de l'Industrie, 75012 Paris\n",
      "\n",
      "Présentation de l'étudiant :\n",
      "nom : Bob, age : 22, profession : Etudiant, adresse : 15 rue de l'Industrie, 75012 Paris, niveau d'études : Master Informatique\n",
      "\n",
      "Présentation de l'employé :\n",
      "nom : Charlie, age : 40, profession : Employé, adresse : 15 rue de l'Industrie, 75012 Paris, salaire : 3500 €\n"
     ]
    }
   ],
   "source": [
    "adresse = Adresse(\"15 rue de l'Industrie\", \"75012\", \"Paris\")\n",
    "personne = Personne(\"Alice\", 30, adresse)\n",
    "etudiant = Etudiant(\"Bob\", 22, adresse, \"Master Informatique\")\n",
    "employe = Employe(\"Charlie\", 40, adresse, 3500)\n",
    "\n",
    "print(\"Présentation de la personne :\")\n",
    "presentation(personne)\n",
    "print(\"\\nPrésentation de l'étudiant :\")\n",
    "presentation(etudiant)\n",
    "print(\"\\nPrésentation de l'employé :\")\n",
    "presentation(employe)"
   ]
  },
  {
   "cell_type": "markdown",
   "metadata": {},
   "source": [
    "### Exercice 11. Polymorphisme par surcharge\n",
    "Ajoute une méthode calculer_salaire dans la classe Employe. Surcharge cette méthode pour qu'elle accepte un paramètre supplémentaire prime (facultatif). Si une prime est donnée, elle est ajoutée au salaire total."
   ]
  },
  {
   "cell_type": "code",
   "execution_count": 209,
   "metadata": {},
   "outputs": [],
   "source": [
    "class Employe(Personne):\n",
    "    def __init__(self, nom: str, age: int, adresse: Adresse, salaire: float, profession: str = \"Employé\") -> None:\n",
    "        super().__init__(nom, age, adresse, profession)\n",
    "        self.salaire = salaire\n",
    "\n",
    "    def afficher_salaire(self) -> None:\n",
    "        print(f\"{self.nom} gagne un salaire de {self.salaire} €.\")\n",
    "\n",
    "    def afficher_informations(self) -> str:\n",
    "        return super().afficher_informations() + f\", salaire : {self.salaire} €\"\n",
    "    \n",
    "    def calculer_salaire(self, prime: float = 0) -> None:\n",
    "        return self.salaire + prime\n",
    "\n",
    "    def __str__(self) -> str:\n",
    "        return f\"Employé {{ nom : {self.nom}, age : {self.age}, salaire : {self.salaire} €, adresse : {self.adresse} }}\"\n",
    "    "
   ]
  },
  {
   "cell_type": "code",
   "execution_count": 210,
   "metadata": {},
   "outputs": [
    {
     "name": "stdout",
     "output_type": "stream",
     "text": [
      "Salaire sans prime : 3500 €\n",
      "Salaire avec prime : 4000 €\n"
     ]
    }
   ],
   "source": [
    "adresse = Adresse(\"15 rue de l'Industrie\", \"75012\", \"Paris\")\n",
    "employe = Employe(\"Charlie\", 40, adresse, 3500)\n",
    "\n",
    "salaire_sans_prime = employe.calculer_salaire()\n",
    "print(f\"Salaire sans prime : {salaire_sans_prime} €\")\n",
    "\n",
    "salaire_avec_prime = employe.calculer_salaire(500)\n",
    "print(f\"Salaire avec prime : {salaire_avec_prime} €\")"
   ]
  },
  {
   "cell_type": "markdown",
   "metadata": {},
   "source": [
    "### Exercice 12. Polymorphisme par redéfinition\n",
    "Ajoute une méthode etudier dans la classe Etudiant qui affiche \"L'étudiant étudie\". Redéfinis cette méthode dans une classe dérivée EtudiantEnLigne pour afficher \"L'étudiant étudie en ligne\"."
   ]
  },
  {
   "cell_type": "code",
   "execution_count": 211,
   "metadata": {},
   "outputs": [],
   "source": [
    "class Etudiant(Personne):\n",
    "    def __init__(self, nom: str, age: int, adresse: Adresse, niveau_etudes: str, profession: str = \"Etudiant\") -> None:\n",
    "        super().__init__(nom, age, adresse, profession)\n",
    "        self.niveau_etudes = niveau_etudes\n",
    "\n",
    "    def afficher_etudes(self) -> None:\n",
    "        print(f\"{self.nom} est actuellement en {self.niveau_etudes}.\")\n",
    "\n",
    "    def afficher_informations(self) -> str:\n",
    "        return super().afficher_informations() + f\", niveau d'études : {self.niveau_etudes}\"\n",
    "\n",
    "    def etudier(self) -> None :\n",
    "        print(\"L'étudiant étudie\")\n",
    "\n",
    "    def __str__(self) -> str:\n",
    "        return f\"Etudiant {{ nom : {self.nom}, age : {self.age}, niveau d'études : {self.niveau_etudes}, adresse : {self.adresse} }}\""
   ]
  },
  {
   "cell_type": "code",
   "execution_count": 212,
   "metadata": {},
   "outputs": [],
   "source": [
    "class EtudiantEnLigne(Etudiant) :\n",
    "    def __init__(self, nom: str, age: int, adresse: Adresse, niveau_etudes: str, profession: str = \"Etudiant\") -> None:\n",
    "        super().__init__(nom, age, adresse, niveau_etudes, profession)\n",
    "    \n",
    "    def etudier(self) -> None:\n",
    "        print(\"L'étudiant étudie en ligne.\")"
   ]
  },
  {
   "cell_type": "code",
   "execution_count": 213,
   "metadata": {},
   "outputs": [
    {
     "name": "stdout",
     "output_type": "stream",
     "text": [
      "L'étudiant étudie\n",
      "L'étudiant étudie en ligne.\n"
     ]
    }
   ],
   "source": [
    "adresse = Adresse(\"25 rue de l'Université\", \"75005\", \"Paris\")\n",
    "etudiant = Etudiant(\"Alice\", 22, adresse, \"Licence Informatique\")\n",
    "etudiant_en_ligne = EtudiantEnLigne(\"Bob\", 24, adresse, \"Master Mathématiques\")\n",
    "\n",
    "etudiant.etudier()\n",
    "etudiant_en_ligne.etudier()"
   ]
  },
  {
   "cell_type": "markdown",
   "metadata": {},
   "source": [
    "### Exercice 13. Gestion des erreurs\n",
    "Modifie les setters pour lever une exception si l'âge est négatif ou si le salaire d'un employé est inférieur au salaire minimum légal."
   ]
  },
  {
   "cell_type": "code",
   "execution_count": 214,
   "metadata": {},
   "outputs": [],
   "source": [
    "class Adresse:\n",
    "    def __init__(self, rue: str, code_postal: str, ville: str) -> None:\n",
    "        self.rue = rue\n",
    "        self.code_postal = code_postal\n",
    "        self.ville = ville\n",
    "    \n",
    "    def __str__(self) -> str:\n",
    "        return f\"{self.rue}, {self.code_postal} {self.ville}\"\n",
    "\n",
    "class Personne:\n",
    "    def __init__(self, nom: str, age: int, adresse: Adresse, profession: str = \"Inconnue\") -> None:\n",
    "        self.nom = nom\n",
    "        self.age = age\n",
    "        self.profession = profession\n",
    "        self.adresse = adresse\n",
    "    \n",
    "    @property\n",
    "    def nom(self) -> str:\n",
    "        return self._nom\n",
    "\n",
    "    @property\n",
    "    def age(self) -> int:\n",
    "        return self._age\n",
    "    \n",
    "    @nom.setter\n",
    "    def nom(self, nom: str) -> None:\n",
    "        self._nom = nom\n",
    "\n",
    "    @age.setter\n",
    "    def age(self, age: int) -> None:\n",
    "        if age < 0:\n",
    "            raise ValueError(\"L'âge ne peut pas être négatif.\")\n",
    "        self._age = age\n",
    "    \n",
    "    def afficher_informations(self) -> str:\n",
    "        return (f\"nom : {self.nom}, age : {self.age}, profession : {self.profession}, adresse : {self.adresse}\")\n",
    "    \n",
    "    def __str__(self) -> str:\n",
    "        return f\"Personne {{ nom : {self._nom}, age : {self._age}, profession : {self.profession}, adresse : {self.adresse} }}\"\n",
    "\n",
    "\n",
    "class Employe(Personne):\n",
    "    SALAIRE_MINIMUM = 1500  # Salaire minimum légal en euros\n",
    "\n",
    "    def __init__(self, nom: str, age: int, adresse: Adresse, salaire: float, profession: str = \"Employé\") -> None:\n",
    "        super().__init__(nom, age, adresse, profession)\n",
    "        self.salaire = salaire\n",
    "\n",
    "    @property\n",
    "    def salaire(self) -> float:\n",
    "        return self._salaire\n",
    "\n",
    "    @salaire.setter\n",
    "    def salaire(self, salaire: float) -> None:\n",
    "        if salaire < Employe.SALAIRE_MINIMUM:\n",
    "            raise ValueError(f\"Le salaire ne peut pas être inférieur au salaire minimum légal de {Employe.SALAIRE_MINIMUM} €.\")\n",
    "        self._salaire = salaire\n",
    "\n",
    "    def afficher_salaire(self) -> None:\n",
    "        print(f\"{self.nom} gagne un salaire de {self.salaire} €.\")\n",
    "\n",
    "    def afficher_informations(self) -> str:\n",
    "        return super().afficher_informations() + f\", salaire : {self.salaire} €\"\n",
    "\n",
    "    def __str__(self) -> str:\n",
    "        return f\"Employé {{ nom : {self.nom}, age : {self.age}, salaire : {self.salaire} €, adresse : {self.adresse} }}\"\n",
    "\n",
    "    def calculer_salaire(self, prime: float = 0) -> float:\n",
    "        return self.salaire + prime\n"
   ]
  },
  {
   "cell_type": "code",
   "execution_count": 215,
   "metadata": {},
   "outputs": [
    {
     "name": "stdout",
     "output_type": "stream",
     "text": [
      "Erreur : L'âge ne peut pas être négatif.\n",
      "Erreur : Le salaire ne peut pas être inférieur au salaire minimum légal de 1500 €.\n",
      "nom : Luc, age : 30, profession : Employé, adresse : 12 rue de l'Exemple, 75010 Paris, salaire : 2000 €\n"
     ]
    }
   ],
   "source": [
    "adresse = Adresse(\"12 rue de l'Exemple\", \"75010\", \"Paris\")\n",
    "\n",
    "try:\n",
    "    # Test avec un âge négatif\n",
    "    employe = Employe(\"Luc\", -30, adresse, 2000)\n",
    "    print(employe.afficher_informations())\n",
    "except ValueError as e:\n",
    "    print(f\"Erreur : {e}\")\n",
    "\n",
    "try:\n",
    "    # Test avec un salaire inférieur au salaire minimum légal\n",
    "    employe = Employe(\"Luc\", 30, adresse, 1200)\n",
    "    print(employe.afficher_informations())\n",
    "except ValueError as e:\n",
    "    print(f\"Erreur : {e}\")\n",
    "\n",
    "# Test avec des valeurs valides\n",
    "try:\n",
    "    employe = Employe(\"Luc\", 30, adresse, 2000)\n",
    "    print(employe.afficher_informations())  # Affiche les informations de l'employé\n",
    "except ValueError as e:\n",
    "    print(f\"Erreur : {e}\")"
   ]
  },
  {
   "cell_type": "markdown",
   "metadata": {},
   "source": [
    "### Exercice 14. Relations entre classes\n",
    "Crée une classe Entreprise qui contient une liste d'objets Employe. Implémente une méthode ajouter_employe pour ajouter un employé, et une méthode afficher_tous_les_employes pour afficher les détails de tous les employés de l'entreprise."
   ]
  },
  {
   "cell_type": "code",
   "execution_count": 216,
   "metadata": {},
   "outputs": [],
   "source": [
    "class Entreprise:\n",
    "    def __init__(self, nom: str) -> None:\n",
    "        self.nom = nom\n",
    "        self.employes = []\n",
    "    \n",
    "    def ajouter_employe(self, employe: Employe) -> None:\n",
    "        self.employes.append(employe)\n",
    "    \n",
    "    def afficher_tous_les_employes(self) -> None:\n",
    "        if not self.employes:\n",
    "            print(\"Aucun employé dans l'entreprise.\")\n",
    "        else:\n",
    "            for employe in self.employes:\n",
    "                print(employe.afficher_informations())\n",
    "\n",
    "    def __str__(self) -> str:\n",
    "        employes_info = \"\\n\".join([str(employe) for employe in self.employes]) if self.employes else \"Aucun employé\"\n",
    "        return f\"Entreprise {self.nom} :\\n{employes_info}\""
   ]
  },
  {
   "cell_type": "code",
   "execution_count": 217,
   "metadata": {},
   "outputs": [
    {
     "name": "stdout",
     "output_type": "stream",
     "text": [
      "nom : Luc, age : 30, profession : Employé, adresse : 12 rue de l'Exemple, 75010 Paris, salaire : 2000 €\n",
      "nom : Alice, age : 25, profession : Employé, adresse : 15 rue de l'Industrie, 75012 Paris, salaire : 2200 €\n",
      "Entreprise TechCorp :\n",
      "Employé { nom : Luc, age : 30, salaire : 2000 €, adresse : 12 rue de l'Exemple, 75010 Paris }\n",
      "Employé { nom : Alice, age : 25, salaire : 2200 €, adresse : 15 rue de l'Industrie, 75012 Paris }\n"
     ]
    }
   ],
   "source": [
    "adresse1 = Adresse(\"12 rue de l'Exemple\", \"75010\", \"Paris\")\n",
    "adresse2 = Adresse(\"15 rue de l'Industrie\", \"75012\", \"Paris\")\n",
    "\n",
    "employe1 = Employe(\"Luc\", 30, adresse1, 2000)\n",
    "employe2 = Employe(\"Alice\", 25, adresse2, 2200)\n",
    "\n",
    "entreprise = Entreprise(\"TechCorp\")\n",
    "\n",
    "entreprise.ajouter_employe(employe1)\n",
    "entreprise.ajouter_employe(employe2)\n",
    "\n",
    "entreprise.afficher_tous_les_employes()\n",
    "print(entreprise)"
   ]
  },
  {
   "cell_type": "markdown",
   "metadata": {},
   "source": [
    "### Exercice 19. Gestion des fichiers\n",
    "Ajoute une méthode à la classe Personne pour sauvegarder ses informations dans un fichier texte. Implémente également une méthode pour charger une personne à partir d'un fichier."
   ]
  },
  {
   "cell_type": "code",
   "execution_count": 222,
   "metadata": {},
   "outputs": [],
   "source": [
    "import os \n",
    "\n",
    "class Adresse:\n",
    "    def __init__(self, rue: str, code_postal: str, ville: str) -> None:\n",
    "        self.rue = rue\n",
    "        self.code_postal = code_postal\n",
    "        self.ville = ville\n",
    "    \n",
    "    def __str__(self) -> str:\n",
    "        return f\"{self.rue}, {self.code_postal} {self.ville}\"\n",
    "\n",
    "class Personne:\n",
    "    def __init__(self, nom: str, age: int, adresse: Adresse, profession: str = \"Inconnue\") -> None:\n",
    "        self.nom = nom\n",
    "        self.age = age\n",
    "        self.profession = profession\n",
    "        self.adresse = adresse\n",
    "    \n",
    "    @property\n",
    "    def nom(self) -> str:\n",
    "        return self._nom\n",
    "\n",
    "    @property\n",
    "    def age(self) -> int:\n",
    "        return self._age\n",
    "    \n",
    "    @nom.setter\n",
    "    def nom(self, nom: str) -> None:\n",
    "        self._nom = nom\n",
    "\n",
    "    @age.setter\n",
    "    def age(self, age: int) -> None:\n",
    "        if age < 0:\n",
    "            raise ValueError(\"L'âge ne peut pas être négatif.\")\n",
    "        self._age = age\n",
    "    \n",
    "    def afficher_informations(self) -> str:\n",
    "        return (f\"nom : {self.nom}, age : {self.age}, profession : {self.profession}, adresse : {self.adresse}\")\n",
    "    \n",
    "    def __str__(self) -> str:\n",
    "        return f\"Personne {{ nom : {self._nom}, age : {self._age}, profession : {self.profession}, adresse : {self.adresse} }}\"\n",
    "\n",
    "    def sauvegarder(self, nom_fichier: str) -> None:\n",
    "        if not os.path.exists(os.path.dirname(nom_fichier)):\n",
    "            os.makedirs(os.path.dirname(nom_fichier))\n",
    "\n",
    "        with open(nom_fichier,\"w\") as fichier:\n",
    "            fichier.write(f\"{self.nom}\\n\")\n",
    "            fichier.write(f\"{self.age}\\n\")\n",
    "            fichier.write(f\"{self.profession}\\n\")\n",
    "            fichier.write(f\"{self.adresse.rue}\\n\")\n",
    "            fichier.write(f\"{self.adresse.code_postal}\\n\")\n",
    "            fichier.write(f\"{self.adresse.ville}\\n\")\n",
    "    \n",
    "    def charger(nom_fichier: str) -> Personne:\n",
    "        try:\n",
    "            with open(nom_fichier, 'r') as fichier:\n",
    "                nom = fichier.readline().strip()\n",
    "                age = int(fichier.readline().strip())\n",
    "                profession = fichier.readline().strip()\n",
    "                rue = fichier.readline().strip()\n",
    "                code_postal = fichier.readline().strip()\n",
    "                ville = fichier.readline().strip()\n",
    "                \n",
    "                # Créer une instance d'Adresse\n",
    "                adresse = Adresse(rue, code_postal, ville)\n",
    "                \n",
    "                # Créer une instance de Personne\n",
    "                return Personne(nom, age, adresse, profession)\n",
    "        except FileNotFoundError:\n",
    "            raise FileNotFoundError(f\"Le fichier {nom_fichier} n'existe pas.\")\n",
    "        except Exception as e:\n",
    "            raise Exception(f\"Erreur lors du chargement: {e}\")\n",
    "    \n"
   ]
  },
  {
   "cell_type": "code",
   "execution_count": 225,
   "metadata": {},
   "outputs": [
    {
     "name": "stdout",
     "output_type": "stream",
     "text": [
      "Données sauvegardées dans ../Data/personne.txt\n",
      "\n",
      "Données chargées avec succès:\n",
      "Personne { nom : Jean Dupont, age : 30, profession : Ingénieur, adresse : 123 rue Test, 75000 Paris }\n"
     ]
    }
   ],
   "source": [
    "chemin_fichier = \"../Data/personne.txt\"\n",
    "\n",
    "adresse_test = Adresse(\"123 rue Test\", \"75000\", \"Paris\")\n",
    "personne_test = Personne(\"Jean Dupont\", 30, adresse_test, \"Ingénieur\")\n",
    "\n",
    "try:\n",
    "    personne_test.sauvegarder(chemin_fichier)\n",
    "    print(f\"Données sauvegardées dans {chemin_fichier}\")\n",
    "except FileNotFoundError:\n",
    "    print(\"Erreur: Le dossier 'Data' n'existe pas. Créez-le d'abord.\")\n",
    "except Exception as e:\n",
    "    print(f\"Erreur lors de la sauvegarde: {e}\")\n",
    "\n",
    "try:\n",
    "    personne_chargee = Personne.charger(chemin_fichier)\n",
    "    print(\"\\nDonnées chargées avec succès:\")\n",
    "    print(personne_chargee)\n",
    "except FileNotFoundError:\n",
    "    print(f\"Erreur: Le fichier {chemin_fichier} n'existe pas\")\n",
    "except Exception as e:\n",
    "    print(f\"Erreur lors du chargement: {e}\")"
   ]
  }
 ],
 "metadata": {
  "kernelspec": {
   "display_name": "venv",
   "language": "python",
   "name": "python3"
  },
  "language_info": {
   "codemirror_mode": {
    "name": "ipython",
    "version": 3
   },
   "file_extension": ".py",
   "mimetype": "text/x-python",
   "name": "python",
   "nbconvert_exporter": "python",
   "pygments_lexer": "ipython3",
   "version": "3.10.11"
  },
  "orig_nbformat": 4
 },
 "nbformat": 4,
 "nbformat_minor": 2
}
