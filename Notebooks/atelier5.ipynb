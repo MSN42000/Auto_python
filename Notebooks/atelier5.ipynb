{
 "cells": [
  {
   "cell_type": "markdown",
   "metadata": {},
   "source": [
    "# Atelier Pratique : Automatisation avec un modèle LLM"
   ]
  },
  {
   "cell_type": "markdown",
   "metadata": {},
   "source": [
    "### Exercice 1 : Génération de contenu marketing\n",
    "Demandez à l'IA de créer une description de produit ou un texte publicitaire attractif pour un produit donné.\n",
    "\n",
    " Exemple : Générer un texte pour un smartphone ou un ordinateur portable.\n"
   ]
  },
  {
   "cell_type": "code",
   "execution_count": 3,
   "metadata": {},
   "outputs": [
    {
     "name": "stdout",
     "output_type": "stream",
     "text": [
      "Requirement already satisfied: g4f in d:\\auto_python\\venv\\lib\\site-packages (0.3.8.4)\n",
      "Requirement already satisfied: pypdf in d:\\auto_python\\venv\\lib\\site-packages (5.1.0)\n",
      "Requirement already satisfied: requests in d:\\auto_python\\venv\\lib\\site-packages (from g4f) (2.31.0)\n",
      "Requirement already satisfied: aiohttp in d:\\auto_python\\venv\\lib\\site-packages (from g4f) (3.11.10)\n",
      "Requirement already satisfied: brotli in d:\\auto_python\\venv\\lib\\site-packages (from g4f) (1.1.0)\n",
      "Requirement already satisfied: pycryptodome in d:\\auto_python\\venv\\lib\\site-packages (from g4f) (3.21.0)\n",
      "Requirement already satisfied: nest_asyncio in d:\\auto_python\\venv\\lib\\site-packages (from g4f) (1.6.0)\n",
      "Requirement already satisfied: typing_extensions>=4.0 in d:\\auto_python\\venv\\lib\\site-packages (from pypdf) (4.12.2)\n",
      "Requirement already satisfied: aiohappyeyeballs>=2.3.0 in d:\\auto_python\\venv\\lib\\site-packages (from aiohttp->g4f) (2.4.4)\n",
      "Requirement already satisfied: aiosignal>=1.1.2 in d:\\auto_python\\venv\\lib\\site-packages (from aiohttp->g4f) (1.3.1)\n",
      "Requirement already satisfied: async-timeout<6.0,>=4.0 in d:\\auto_python\\venv\\lib\\site-packages (from aiohttp->g4f) (5.0.1)\n",
      "Requirement already satisfied: attrs>=17.3.0 in d:\\auto_python\\venv\\lib\\site-packages (from aiohttp->g4f) (24.2.0)\n",
      "Requirement already satisfied: frozenlist>=1.1.1 in d:\\auto_python\\venv\\lib\\site-packages (from aiohttp->g4f) (1.5.0)\n",
      "Requirement already satisfied: multidict<7.0,>=4.5 in d:\\auto_python\\venv\\lib\\site-packages (from aiohttp->g4f) (6.1.0)\n",
      "Requirement already satisfied: propcache>=0.2.0 in d:\\auto_python\\venv\\lib\\site-packages (from aiohttp->g4f) (0.2.1)\n",
      "Requirement already satisfied: yarl<2.0,>=1.17.0 in d:\\auto_python\\venv\\lib\\site-packages (from aiohttp->g4f) (1.18.3)\n",
      "Requirement already satisfied: charset-normalizer<4,>=2 in d:\\auto_python\\venv\\lib\\site-packages (from requests->g4f) (3.4.0)\n",
      "Requirement already satisfied: idna<4,>=2.5 in d:\\auto_python\\venv\\lib\\site-packages (from requests->g4f) (3.10)\n",
      "Requirement already satisfied: urllib3<3,>=1.21.1 in d:\\auto_python\\venv\\lib\\site-packages (from requests->g4f) (2.2.3)\n",
      "Requirement already satisfied: certifi>=2017.4.17 in d:\\auto_python\\venv\\lib\\site-packages (from requests->g4f) (2024.8.30)\n",
      "Note: you may need to restart the kernel to use updated packages.\n"
     ]
    }
   ],
   "source": [
    "%pip install g4f pypdf"
   ]
  },
  {
   "cell_type": "code",
   "execution_count": 9,
   "metadata": {},
   "outputs": [
    {
     "name": "stdout",
     "output_type": "stream",
     "text": [
      "\n",
      "Description marketing générée :\n",
      "\n",
      "Découvrez l'iPhone 15 Pro, le summum de l'innovation technologique ! Avec son design élégant en titane et son écran Super Retina XDR, plongez dans une expérience visuelle sans précédent. Capturez des moments inoubliables grâce à son système de triple caméra avancé, offrant des photos et vidéos d'une qualité époustouflante, même en faible luminosité. Profitez d'une performance fulgurante avec la puce A17 Pro, garantissant rapidité et efficacité. L'autonomie de la batterie vous accompagne toute la journée, et avec la connectivité 5G, restez toujours connecté. Faites le choix de l'excellence avec l'iPhone 15 Pro, votre compagnon idéal au quotidien !\n"
     ]
    }
   ],
   "source": [
    "import g4f\n",
    "\n",
    "def generate_marketing_text(product):\n",
    "    prompt = f\"\"\"Create an attractive marketing description in French for the following product: {product}. \n",
    "    The description should be engaging, highlight key features, and be approximately 100 words.\"\"\"\n",
    "    \n",
    "    response = g4f.ChatCompletion.create(\n",
    "        model=\"gpt-3.5-turbo\",\n",
    "        messages=[{\"role\": \"user\", \"content\": prompt}]\n",
    "    )\n",
    "    \n",
    "    return response\n",
    "\n",
    "# Example usage\n",
    "product = \"iPhone 15 Pro\"\n",
    "marketing_text = generate_marketing_text(product)\n",
    "print(\"\\nDescription marketing générée :\\n\")\n",
    "print(marketing_text)"
   ]
  },
  {
   "cell_type": "markdown",
   "metadata": {},
   "source": [
    "### Exercice 2 :  Résumé des articles scientifiques\n",
    "Téléchargez un fichier texte contenant un article et demandez à l'IA de générer un résumé en moins de 150 mots."
   ]
  },
  {
   "cell_type": "code",
   "execution_count": 17,
   "metadata": {},
   "outputs": [
    {
     "name": "stdout",
     "output_type": "stream",
     "text": [
      "\n",
      "Résumé généré :\n",
      "\n",
      "The article \"Communicative Planning – Friend or Foe?\" by Mariann Mannberg and Elin Wihlborg explores the complexities of implementing sustainable development through communicative planning at the local level. It argues that while communicative planning encourages citizen participation and collaboration, it also presents four significant threats: (1) the risk of prioritizing the planning process over the actual plan, (2) challenges to democratic balance and power distribution, (3) potential for false legitimacy in decision-making, and (4) ambiguity surrounding consensus. These threats complicate the planner's role and can undermine the effectiveness of sustainable development initiatives. The authors emphasize the need for a balance between local and global sustainability goals and call for continued research and practice in communicative planning to address these challenges. Ultimately, they suggest that communicative planning can be both beneficial and detrimental, depending on how these threats are managed.\n"
     ]
    }
   ],
   "source": [
    "import g4f\n",
    "import pypdf\n",
    "\n",
    "def extract_text_from_pdf(pdf_path):\n",
    "    # Create PDF reader object\n",
    "    pdf_reader = pypdf.PdfReader(pdf_path)\n",
    "    \n",
    "    # Extract text from all pages\n",
    "    text = \"\"\n",
    "    for page in pdf_reader.pages:\n",
    "        text += page.extract_text()\n",
    "    return text\n",
    "\n",
    "def generate_summary(text):\n",
    "    prompt = f\"\"\"Please provide a summary of the following scientific article in less than 150 words:\n",
    "\n",
    "{text}\"\"\"\n",
    "    \n",
    "    # Using g4f to generate summary\n",
    "    response = g4f.ChatCompletion.create(\n",
    "        model=\"gpt-3.5-turbo\",\n",
    "        messages=[{\"role\": \"user\", \"content\": prompt}]\n",
    "    )\n",
    "    \n",
    "    return response\n",
    "\n",
    "# Path to your PDF file\n",
    "pdf_path = \"../Data/article.pdf\"  \n",
    "\n",
    "try:\n",
    "    # Extract text from PDF\n",
    "    article_text = extract_text_from_pdf(pdf_path)\n",
    "    \n",
    "    # Generate and display summary\n",
    "    summary = generate_summary(article_text)\n",
    "    print(\"\\nRésumé généré :\\n\")\n",
    "    print(summary)\n",
    "    \n",
    "except FileNotFoundError:\n",
    "    print(f\"Error: The file {pdf_path} was not found.\")\n",
    "except Exception as e:\n",
    "    print(f\"An error occurred: {e}\")\n"
   ]
  },
  {
   "cell_type": "markdown",
   "metadata": {},
   "source": [
    "### Exercice 3 : Conversion texte → liste d'actions\n",
    "Transformez un long texte descriptif en une liste d'étapes ou d'actions. Par exemple, donnez-lui une recette complexe et demandez d'en extraire des étapes simples."
   ]
  },
  {
   "cell_type": "code",
   "execution_count": 23,
   "metadata": {},
   "outputs": [
    {
     "name": "stdout",
     "output_type": "stream",
     "text": [
      "\n",
      "Étapes de la recette :\n",
      "\n",
      "Voici les étapes pour préparer une délicieuse quiche lorraine :\n",
      "\n",
      "1. Préchauffez le four à 180°C.\n",
      "2. Préparez une pâte brisée.\n",
      "3. Étalez la pâte brisée dans un moule à tarte.\n",
      "4. Faites revenir des lardons avec des oignons émincés.\n",
      "5. Dans un bol, mélangez 3 œufs avec 20 cl de crème fraîche et 20 cl de lait.\n",
      "6. Assaisonnez le mélange avec du sel, du poivre et de la muscade.\n",
      "7. Disposez les lardons et les oignons sur le fond de tarte.\n",
      "8. Versez le mélange d'œufs, crème et lait sur les lardons et oignons.\n",
      "9. Enfournez la quiche pour environ 45 minutes.\n"
     ]
    }
   ],
   "source": [
    "from g4f.client import Client\n",
    "\n",
    "def extract_steps(text):\n",
    "    prompt = f\"\"\"Convert the following text into a clear numbered list of steps or actions\\n{text} \"\"\"\n",
    "    \n",
    "    client = Client()\n",
    "    response = client.chat.completions.create(\n",
    "        model=\"gpt-3.5-turbo\",\n",
    "        messages=[{\"role\": \"user\", \"content\": prompt}],\n",
    "        stream=False\n",
    "    )\n",
    "    \n",
    "    return response.choices[0].message.content\n",
    "\n",
    "# Example recipe text\n",
    "recipe_text = \"\"\"Pour faire une délicieuse quiche lorraine, commencez par préchauffer le four à 180°C. \n",
    "Préparez une pâte brisée et étalez-la dans un moule à tarte. Faites revenir des lardons avec des oignons émincés. \n",
    "Dans un bol, mélangez 3 œufs avec 20cl de crème fraîche et 20cl de lait. Assaisonnez avec sel, poivre et muscade.\n",
    "Disposez les lardons et oignons sur le fond de tarte, versez l'appareil et enfournez pour 45 minutes environ.\"\"\"\n",
    "\n",
    "try:\n",
    "    # Extract steps from recipe text\n",
    "    steps = extract_steps(recipe_text)\n",
    "    print(\"\\nÉtapes de la recette :\\n\")\n",
    "    print(steps)\n",
    "    \n",
    "except Exception as e:\n",
    "    print(f\"An error occurred: {e}\")\n"
   ]
  },
  {
   "cell_type": "markdown",
   "metadata": {},
   "source": [
    "### Exercice 4 : Extraction de mots-clés d'un document\n",
    "Demandez à l'IA d'extraire les mots-clés les plus pertinents d'un fichier texte ou PDF pour faciliter la recherche de contenu.\n"
   ]
  },
  {
   "cell_type": "code",
   "execution_count": 25,
   "metadata": {},
   "outputs": [
    {
     "name": "stdout",
     "output_type": "stream",
     "text": [
      "\n",
      "Mots-clés extraits :\n",
      "\n",
      "intelligence artificielle, IA, programmes informatiques, traits de l'intelligence humaine, raisonnement, apprentissage, machines, apprentissage automatique, traitement du langage naturel, applications, reconnaissance vocale, vision par ordinateur, systèmes experts\n"
     ]
    }
   ],
   "source": [
    "from g4f.client import Client\n",
    "\n",
    "def extract_keywords(text):\n",
    "    prompt = \"\"\"Extract and list the most relevant keywords from the following text. \n",
    "    Focus on important terms that capture the main topics and concepts.\n",
    "    Return them as a simple comma-separated list.\\n\\n\"\"\" + text\n",
    "    \n",
    "    client = Client()\n",
    "    response = client.chat.completions.create(\n",
    "        model=\"gpt-3.5-turbo\", \n",
    "        messages=[{\"role\": \"user\", \"content\": prompt}],\n",
    "        stream=False\n",
    "    )\n",
    "    \n",
    "    return response.choices[0].message.content\n",
    "\n",
    "# Example text\n",
    "sample_text = \"\"\"L'intelligence artificielle (IA) est un ensemble de théories et de techniques \n",
    "développant des programmes informatiques complexes capables de simuler certains traits de \n",
    "l'intelligence humaine (raisonnement, apprentissage...). Elle permet aux machines d'imiter \n",
    "une forme d'intelligence réelle, notamment l'apprentissage automatique et le traitement du \n",
    "langage naturel. Les applications de l'IA incluent la reconnaissance vocale, la vision par \n",
    "ordinateur et les systèmes experts.\"\"\"\n",
    "\n",
    "try:\n",
    "    # Extract keywords from sample text\n",
    "    keywords = extract_keywords(sample_text)\n",
    "    print(\"\\nMots-clés extraits :\\n\")\n",
    "    print(keywords)\n",
    "    \n",
    "except Exception as e:\n",
    "    print(f\"An error occurred: {e}\")\n"
   ]
  },
  {
   "cell_type": "markdown",
   "metadata": {},
   "source": [
    "### Exercice 5 : Génération de quiz\n",
    "À partir d'un texte donné (exemple : le contenu d'un cours), demandez à l'IA de générer 5 questions à choix multiple basées sur ce contenu."
   ]
  },
  {
   "cell_type": "code",
   "execution_count": 28,
   "metadata": {},
   "outputs": [
    {
     "name": "stdout",
     "output_type": "stream",
     "text": [
      "\n",
      "Quiz généré :\n",
      "\n",
      "Q1. Qu'est-ce que l'intelligence artificielle (IA) ?\n",
      "A) Un ensemble de théories et de techniques pour développer des programmes informatiques\n",
      "B) Un type de matériel informatique\n",
      "C) Une méthode de calcul mathématique\n",
      "D) Un système de gestion de bases de données\n",
      "Correct Answer: A\n",
      "\n",
      "Q2. Quelle capacité l'IA permet-elle aux machines d'imiter ?\n",
      "A) La capacité de stockage\n",
      "B) La forme d'intelligence réelle\n",
      "C) La vitesse de calcul\n",
      "D) L'efficacité énergétique\n",
      "Correct Answer: B\n",
      "\n",
      "Q3. Parmi les applications de l'IA, laquelle n'est pas mentionnée dans le texte ?\n",
      "A) La reconnaissance vocale\n",
      "B) La vision par ordinateur\n",
      "C) Les systèmes experts\n",
      "D) Le traitement des images numériques\n",
      "Correct Answer: D\n",
      "\n",
      "Q4. Quel domaine de l'IA est spécifiquement mentionné comme permettant le traitement du langage naturel ?\n",
      "A) La robotique\n",
      "B) L'apprentissage automatique\n",
      "C) La réalité augmentée\n",
      "D) La cybersécurité\n",
      "Correct Answer: B\n",
      "\n",
      "Q5. Quelles sont certaines des caractéristiques de l'intelligence humaine que l'IA cherche à simuler ?\n",
      "A) La mémoire et l'archivage\n",
      "B) Le raisonnement et l'apprentissage\n",
      "C) La communication et la créativité\n",
      "D) L'intuition et l'empathie\n",
      "Correct Answer: B\n"
     ]
    }
   ],
   "source": [
    "import g4f\n",
    "\n",
    "def generate_quiz(text):\n",
    "    prompt = \"\"\"Based on the following text, generate 5 multiple choice questions. \n",
    "    For each question, provide 4 options (A, B, C, D) with one correct answer.\n",
    "    Format each question like this:\n",
    "    \n",
    "    Q1. [Question]\n",
    "    A) [Option A]\n",
    "    B) [Option B] \n",
    "    C) [Option C]\n",
    "    D) [Option D]\n",
    "    Correct Answer: [Letter]\n",
    "    \n",
    "    Text:\n",
    "    \"\"\" + text\n",
    "    \n",
    "    response = g4f.ChatCompletion.create(\n",
    "        model=\"gpt-3.5-turbo\",\n",
    "        messages=[{\"role\": \"user\", \"content\": prompt}],\n",
    "        stream=False\n",
    "    )\n",
    "    \n",
    "    return response\n",
    "\n",
    "# Example text\n",
    "course_content = \"\"\"L'intelligence artificielle (IA) est un ensemble de théories et de techniques \n",
    "développant des programmes informatiques complexes capables de simuler certains traits de \n",
    "l'intelligence humaine (raisonnement, apprentissage...). Elle permet aux machines d'imiter \n",
    "une forme d'intelligence réelle, notamment l'apprentissage automatique et le traitement du \n",
    "langage naturel. Les applications de l'IA incluent la reconnaissance vocale, la vision par \n",
    "ordinateur et les systèmes experts.\"\"\"\n",
    "\n",
    "try:\n",
    "    # Generate quiz from course content\n",
    "    quiz = generate_quiz(course_content)\n",
    "    print(\"\\nQuiz généré :\\n\")\n",
    "    print(quiz)\n",
    "    \n",
    "except Exception as e:\n",
    "    print(f\"An error occurred: {e}\")\n"
   ]
  },
  {
   "cell_type": "markdown",
   "metadata": {},
   "source": [
    "### Exercice 6 : Traduction multilingue\n",
    "Automatisez la traduction d'un texte en plusieurs langues à l'aide de l'IA. Donnez un texte en français et demandez des traductions en anglais, espagnol et allemand.\n"
   ]
  },
  {
   "cell_type": "code",
   "execution_count": 30,
   "metadata": {},
   "outputs": [
    {
     "name": "stdout",
     "output_type": "stream",
     "text": [
      "Traductions multilingues :\n",
      "\n",
      "English:\n",
      "Sustainable development is a mode of development that meets the needs of the present without compromising the ability of future generations to meet their own needs.\n",
      "\n",
      "Spanish:\n",
      "El desarrollo sostenible es un modo de desarrollo que satisface las necesidades del presente sin comprometer la capacidad de las generaciones futuras para satisfacer sus propias necesidades.\n",
      "\n",
      "German:\n",
      "Nachhaltige Entwicklung ist eine Entwicklungsweise, die die Bedürfnisse der Gegenwart erfüllt, ohne die Fähigkeit zukünftiger Generationen zu gefährden, ihre eigenen Bedürfnisse zu erfüllen.\n"
     ]
    }
   ],
   "source": [
    "import g4f\n",
    "\n",
    "def translate_text(text):\n",
    "    prompt = f\"\"\"Translate the following French text into English, Spanish, and German.\n",
    "    Format the response as:\n",
    "    \n",
    "    English:\n",
    "    [English translation]\n",
    "    \n",
    "    Spanish:\n",
    "    [Spanish translation]\n",
    "    \n",
    "    German:\n",
    "    [German translation]\n",
    "    \n",
    "    French text:\n",
    "    {text}\"\"\"\n",
    "    \n",
    "    try:\n",
    "        response = g4f.ChatCompletion.create(\n",
    "            model=\"gpt-3.5-turbo\",\n",
    "            messages=[{\"role\": \"user\", \"content\": prompt}],\n",
    "            stream=False\n",
    "        )\n",
    "        return response\n",
    "    except Exception as e:\n",
    "        return f\"Translation error: {e}\"\n",
    "\n",
    "# Example French text\n",
    "french_text = \"\"\"Le développement durable est un mode de développement qui répond aux besoins \n",
    "du présent sans compromettre la capacité des générations futures à répondre à leurs propres besoins.\"\"\"\n",
    "\n",
    "print(\"Traductions multilingues :\\n\")\n",
    "translations = translate_text(french_text)\n",
    "print(translations)\n"
   ]
  },
  {
   "cell_type": "markdown",
   "metadata": {},
   "source": [
    "### Exercice 7 : Création de lettres formelles\n",
    "Générez automatiquement une lettre de motivation ou une lettre formelle (par exemple, pour demander un remboursement) en fournissant des informations de base."
   ]
  },
  {
   "cell_type": "code",
   "execution_count": 32,
   "metadata": {},
   "outputs": [
    {
     "name": "stdout",
     "output_type": "stream",
     "text": [
      "Lettre générée :\n",
      "\n",
      "```plaintext\n",
      "Paris, le 15 octobre 2023\n",
      "\n",
      "Jean Dupont  \n",
      "123 Rue de la République  \n",
      "75001 Paris  \n",
      "\n",
      "Mme Sophie Martin  \n",
      "Entreprise ABC  \n",
      "[Adresse de l'entreprise]  \n",
      "[Code postal, Ville]  \n",
      "\n",
      "Objet : Candidature pour le poste d'ingénieur logiciel\n",
      "\n",
      "Madame Martin,\n",
      "\n",
      "Je me permets de vous adresser ma candidature pour le poste d'ingénieur logiciel au sein de votre entreprise, comme annoncé dans votre offre d'emploi. Fort de cinq années d'expérience en développement Python, je suis convaincu que mes compétences techniques et mon engagement envers l'excellence peuvent contribuer au succès de l'Entreprise ABC.\n",
      "\n",
      "Diplômé de l'École d'Informatique, j'ai acquis une solide formation en programmation et en conception de systèmes. Mon parcours professionnel m'a permis de travailler sur divers projets, où j'ai non seulement perfectionné mes compétences en développement, mais aussi développé une grande capacité d'adaptation face aux défis techniques. J'apprécie particulièrement le travail en équipe, qui, selon moi, est essentiel pour atteindre des résultats optimaux.\n",
      "\n",
      "Je suis très enthousiaste à l'idée de rejoindre votre équipe et de participer à des projets innovants. Je serais ravi de discuter de ma candidature plus en détail lors d'un entretien.\n",
      "\n",
      "Je vous prie d'agréer, Madame Martin, l'expression de mes salutations distinguées.\n",
      "\n",
      "Jean Dupont  \n",
      "[Numéro de téléphone]  \n",
      "[Adresse e-mail]  \n",
      "``` \n",
      "\n",
      "Note: Please fill in the address of the company and your contact details (phone number and email) where indicated.\n"
     ]
    }
   ],
   "source": [
    "import g4f\n",
    "\n",
    "def generate_formal_letter(sender_name, sender_address, recipient_name, recipient_company, letter_type, key_points):\n",
    "    prompt = f\"\"\"Generate a formal letter in French with the following information:\n",
    "    \n",
    "    Sender: {sender_name}\n",
    "    Sender Address: {sender_address}\n",
    "    Recipient: {recipient_name}\n",
    "    Company: {recipient_company}\n",
    "    Type of letter: {letter_type}\n",
    "    Key points to include: {key_points}\n",
    "    \n",
    "    Please format it as a proper formal French letter with date, addresses, subject line, proper greetings and closing.\"\"\"\n",
    "    \n",
    "    try:\n",
    "        response = g4f.ChatCompletion.create(\n",
    "            model=\"gpt-3.5-turbo\",\n",
    "            messages=[{\"role\": \"user\", \"content\": prompt}],\n",
    "            stream=False\n",
    "        )\n",
    "        return response\n",
    "    except Exception as e:\n",
    "        return f\"Letter generation error: {e}\"\n",
    "\n",
    "# Example usage\n",
    "sender_info = {\n",
    "    \"name\": \"Jean Dupont\",\n",
    "    \"address\": \"123 Rue de la République\\n75001 Paris\"\n",
    "}\n",
    "\n",
    "recipient_info = {\n",
    "    \"name\": \"Mme Sophie Martin\",\n",
    "    \"company\": \"Entreprise ABC\"\n",
    "}\n",
    "\n",
    "letter_type = \"Lettre de motivation\"\n",
    "key_points = \"\"\"\n",
    "- Candidature pour le poste d'ingénieur logiciel\n",
    "- 5 ans d'expérience en développement Python\n",
    "- Diplômé de l'École d'Informatique\n",
    "- Grande capacité d'adaptation et travail en équipe\n",
    "\"\"\"\n",
    "\n",
    "print(\"Lettre générée :\\n\")\n",
    "letter = generate_formal_letter(\n",
    "    sender_info[\"name\"],\n",
    "    sender_info[\"address\"],\n",
    "    recipient_info[\"name\"],\n",
    "    recipient_info[\"company\"],\n",
    "    letter_type,\n",
    "    key_points\n",
    ")\n",
    "print(letter)\n"
   ]
  },
  {
   "cell_type": "markdown",
   "metadata": {},
   "source": [
    "### Exercice 8 : Réécriture et simplification\n",
    "Prenez un texte complexe et demandez à l'IA de le réécrire de manière simplifiée, pour un public d'enfants ou de non-spécialistes."
   ]
  },
  {
   "cell_type": "code",
   "execution_count": 34,
   "metadata": {},
   "outputs": [
    {
     "name": "stdout",
     "output_type": "stream",
     "text": [
      "Texte original :\n",
      "\n",
      "\n",
      "La photosynthèse est un processus bioénergétique qui permet aux plantes de synthétiser \n",
      "de la matière organique en utilisant l'énergie lumineuse. Elle se déroule au sein des \n",
      "chloroplastes et permet la conversion du dioxyde de carbone atmosphérique en glucides, \n",
      "avec production simultanée d'oxygène moléculaire.\n",
      "\n",
      "\n",
      "Version simplifiée :\n",
      "\n",
      "La photosynthèse est un moyen pour les plantes de fabriquer leur nourriture. Elles utilisent la lumière du soleil pour cela. Ce processus se passe dans des petites parties de la plante appelées chloroplastes. Pendant la photosynthèse, les plantes prennent du dioxyde de carbone de l'air et le transforment en sucre. En même temps, elles produisent de l'oxygène, que nous respirons.\n"
     ]
    }
   ],
   "source": [
    "import g4f\n",
    "\n",
    "def simplify_text(text):\n",
    "    try:\n",
    "        prompt = f\"\"\"\n",
    "        Veuillez réécrire le texte suivant de manière simplifiée, adaptée à un public d'enfants ou de non-spécialistes.\n",
    "        Utilisez un vocabulaire simple et des phrases courtes.\n",
    "        \n",
    "        Texte à simplifier :\n",
    "        {text}\n",
    "        \"\"\"\n",
    "        \n",
    "        response = g4f.ChatCompletion.create(\n",
    "            model=\"gpt-3.5-turbo\",\n",
    "            messages=[{\"role\": \"user\", \"content\": prompt}],\n",
    "            stream=False\n",
    "        )\n",
    "        return response\n",
    "    except Exception as e:\n",
    "        return f\"Text simplification error: {e}\"\n",
    "\n",
    "# Example usage\n",
    "complex_text = \"\"\"\n",
    "La photosynthèse est un processus bioénergétique qui permet aux plantes de synthétiser \n",
    "de la matière organique en utilisant l'énergie lumineuse. Elle se déroule au sein des \n",
    "chloroplastes et permet la conversion du dioxyde de carbone atmosphérique en glucides, \n",
    "avec production simultanée d'oxygène moléculaire.\n",
    "\"\"\"\n",
    "\n",
    "print(\"Texte original :\\n\")\n",
    "print(complex_text)\n",
    "print(\"\\nVersion simplifiée :\\n\")\n",
    "print(simplify_text(complex_text))\n"
   ]
  },
  {
   "cell_type": "markdown",
   "metadata": {},
   "source": [
    "### Exercice 9 : Résolution de problèmes de programmation\n",
    "Donnez une description de problème de codage, et demandez à l'IA de proposer une solution en Python ou dans un autre langage de programmation.\n"
   ]
  },
  {
   "cell_type": "code",
   "execution_count": 35,
   "metadata": {},
   "outputs": [
    {
     "name": "stdout",
     "output_type": "stream",
     "text": [
      "Description du problème :\n",
      "\n",
      "\n",
      "Écrivez une fonction qui prend une liste de nombres en entrée et retourne \n",
      "une nouvelle liste contenant uniquement les nombres pairs, triés par ordre croissant.\n",
      "\n",
      "\n",
      "Solution proposée :\n",
      "\n",
      "Bien sûr ! Voici une solution en Python pour le problème que vous avez décrit. La fonction `filter_and_sort_evens` prend une liste de nombres en entrée et retourne une nouvelle liste contenant uniquement les nombres pairs, triés par ordre croissant.\n",
      "\n",
      "```python\n",
      "def filter_and_sort_evens(numbers):\n",
      "    \"\"\"\n",
      "    Cette fonction prend une liste de nombres et retourne une nouvelle liste\n",
      "    contenant uniquement les nombres pairs, triés par ordre croissant.\n",
      "\n",
      "    :param numbers: Liste de nombres (entiers ou flottants)\n",
      "    :return: Liste de nombres pairs triés\n",
      "    \"\"\"\n",
      "    # Filtrer les nombres pairs en utilisant une compréhension de liste\n",
      "    evens = [num for num in numbers if num % 2 == 0]\n",
      "    \n",
      "    # Trier la liste des nombres pairs\n",
      "    evens.sort()\n",
      "    \n",
      "    return evens\n",
      "\n",
      "# Exemple d'utilisation\n",
      "if __name__ == \"__main__\":\n",
      "    # Liste d'exemple\n",
      "    input_numbers = [5, 2, 9, 4, 1, 6, 3, 8]\n",
      "    \n",
      "    # Appel de la fonction\n",
      "    result = filter_and_sort_evens(input_numbers)\n",
      "    \n",
      "    # Affichage du résultat\n",
      "    print(\"Nombres pairs triés :\", result)\n",
      "```\n",
      "\n",
      "### Explication du code :\n",
      "\n",
      "1. **Définition de la fonction** :\n"
     ]
    }
   ],
   "source": [
    "import g4f\n",
    "\n",
    "def get_coding_solution(problem_description):\n",
    "    try:\n",
    "        prompt = f\"\"\"\n",
    "        Je suis un développeur et j'ai besoin d'aide pour résoudre ce problème de programmation.\n",
    "        Veuillez proposer une solution en Python avec des commentaires explicatifs.\n",
    "        \n",
    "        Problème à résoudre :\n",
    "        {problem_description}\n",
    "        \"\"\"\n",
    "        \n",
    "        response = g4f.ChatCompletion.create(\n",
    "            model=\"gpt-3.5-turbo\",\n",
    "            messages=[{\"role\": \"user\", \"content\": prompt}],\n",
    "            stream=False\n",
    "        )\n",
    "        return response\n",
    "    except Exception as e:\n",
    "        return f\"Error getting solution: {e}\"\n",
    "\n",
    "# Example usage\n",
    "coding_problem = \"\"\"\n",
    "Écrivez une fonction qui prend une liste de nombres en entrée et retourne \n",
    "une nouvelle liste contenant uniquement les nombres pairs, triés par ordre croissant.\n",
    "\"\"\"\n",
    "\n",
    "print(\"Description du problème :\\n\")\n",
    "print(coding_problem)\n",
    "print(\"\\nSolution proposée :\\n\")\n",
    "print(get_coding_solution(coding_problem))\n"
   ]
  },
  {
   "cell_type": "markdown",
   "metadata": {},
   "source": [
    "### Exercice 10 : Analyse de sentiment\n",
    "Demandez à l'IA d'analyser le sentiment d'un texte donné, par exemple, un avis client ou un commentaire sur un réseau social (positif, neutre ou négatif)."
   ]
  },
  {
   "cell_type": "code",
   "execution_count": null,
   "metadata": {},
   "outputs": [],
   "source": []
  }
 ],
 "metadata": {
  "kernelspec": {
   "display_name": "venv",
   "language": "python",
   "name": "python3"
  },
  "language_info": {
   "codemirror_mode": {
    "name": "ipython",
    "version": 3
   },
   "file_extension": ".py",
   "mimetype": "text/x-python",
   "name": "python",
   "nbconvert_exporter": "python",
   "pygments_lexer": "ipython3",
   "version": "3.10.11"
  },
  "orig_nbformat": 4
 },
 "nbformat": 4,
 "nbformat_minor": 2
}
