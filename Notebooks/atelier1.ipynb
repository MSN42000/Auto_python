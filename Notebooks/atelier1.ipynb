{
 "cells": [
  {
   "cell_type": "markdown",
   "metadata": {},
   "source": [
    "# **Atelier** : Introduction à Python, concepts de base et leurs applications\n"
   ]
  },
  {
   "cell_type": "markdown",
   "metadata": {},
   "source": [
    "# Partie 1 : Structures de base\n",
    "\n",
    "## 1. Les variables\n",
    "\n",
    "### Exercice\n",
    "Déclarez une variable `age` et assignez-lui votre âge, puis affichez-la."
   ]
  },
  {
   "cell_type": "code",
   "execution_count": 2,
   "metadata": {},
   "outputs": [
    {
     "name": "stdout",
     "output_type": "stream",
     "text": [
      "Mon âge est : 24\n"
     ]
    }
   ],
   "source": [
    "age = 24\n",
    "print(\"Mon âge est :\", age)"
   ]
  },
  {
   "cell_type": "markdown",
   "metadata": {},
   "source": [
    "## 2. Les commentaires\n",
    "\n",
    "### Exercice\n",
    "Ajoutez des commentaires à ce programme pour expliquer chaque étape."
   ]
  },
  {
   "cell_type": "code",
   "execution_count": 3,
   "metadata": {},
   "outputs": [
    {
     "name": "stdout",
     "output_type": "stream",
     "text": [
      "Mon âge est : 24 ans\n"
     ]
    }
   ],
   "source": [
    "\n",
    "# Déclaration et assignation de la variable age\n",
    "age = 24  # Assignez votre âge à la variable 'age'\n",
    "\n",
    "# Affichage de la variable\n",
    "print(f\"Mon âge est : {age} ans\")  # Affiche l'âge en utilisant une f-string pour le formatage"
   ]
  },
  {
   "cell_type": "markdown",
   "metadata": {},
   "source": [
    "## 3. L'addition\n",
    "\n",
    "### Exercice\n",
    "Écrivez un programme Python qui demande à l'utilisateur de saisir deux nombres et affiche leur somme."
   ]
  },
  {
   "cell_type": "code",
   "execution_count": 4,
   "metadata": {},
   "outputs": [
    {
     "name": "stdout",
     "output_type": "stream",
     "text": [
      "La somme de 20.0 et 10.0 est : 30.0\n"
     ]
    }
   ],
   "source": [
    "# Demande à l'utilisateur de saisir le premier nombre\n",
    "nombre1 = float(input(\"Entrez le premier nombre : \"))\n",
    "\n",
    "# Demande à l'utilisateur de saisir le deuxième nombre\n",
    "nombre2 = float(input(\"Entrez le deuxième nombre : \"))\n",
    "\n",
    "# Calcul de la somme\n",
    "somme = nombre1 + nombre2\n",
    "\n",
    "# Affichage du résultat\n",
    "print(f\"La somme de {nombre1} et {nombre2} est : {somme}\")"
   ]
  },
  {
   "cell_type": "markdown",
   "metadata": {},
   "source": [
    "## 4. La déclaration des chiffres\n",
    "\n",
    "### Exercice\n",
    "Déclarez deux variables `x` et `y`, assignez-leur des valeurs, puis affichez-les."
   ]
  },
  {
   "cell_type": "code",
   "execution_count": 5,
   "metadata": {},
   "outputs": [
    {
     "name": "stdout",
     "output_type": "stream",
     "text": [
      "La valeur de x est : 10\n",
      "La valeur de y est : 5\n"
     ]
    }
   ],
   "source": [
    "# Déclaration et assignation des variables\n",
    "x = 10  # Premier nombre\n",
    "y = 5   # Deuxième nombre\n",
    "\n",
    "# Affichage des variables\n",
    "print(f\"La valeur de x est : {x}\")\n",
    "print(f\"La valeur de y est : {y}\")"
   ]
  },
  {
   "cell_type": "markdown",
   "metadata": {},
   "source": [
    "## 5. L'opérateur +\n",
    "\n",
    "### Exercice\n",
    "Écrivez un programme Python qui demande à l'utilisateur de saisir deux chaînes de caractères et les concatène, puis affiche le résultat."
   ]
  },
  {
   "cell_type": "code",
   "execution_count": 7,
   "metadata": {},
   "outputs": [
    {
     "name": "stdout",
     "output_type": "stream",
     "text": [
      "La chaîne concaténée est : hello 21 savage\n"
     ]
    }
   ],
   "source": [
    "# Demande à l'utilisateur de saisir la première chaîne\n",
    "chaine1 = input(\"Entrez la première chaîne de caractères : \")\n",
    "\n",
    "# Demande à l'utilisateur de saisir la deuxième chaîne\n",
    "chaine2 = input(\"Entrez la deuxième chaîne de caractères : \")\n",
    "\n",
    "# Concaténation des chaînes\n",
    "resultat = chaine1 + \" \" + chaine2  # On ajoute un espace entre les deux chaînes\n",
    "\n",
    "# Affichage du résultat\n",
    "print(f\"La chaîne concaténée est : {resultat}\")"
   ]
  },
  {
   "cell_type": "markdown",
   "metadata": {},
   "source": [
    "## 6. Le typecasting (conversion de type)\n",
    "\n",
    "### Exercice 1\n",
    "Écrivez un programme Python qui convertit un nombre flottant en entier, puis affiche le résultat."
   ]
  },
  {
   "cell_type": "code",
   "execution_count": 8,
   "metadata": {},
   "outputs": [
    {
     "name": "stdout",
     "output_type": "stream",
     "text": [
      "Nombre flottant original : 3.14159\n",
      "Nombre converti en entier : 3\n",
      "Type avant conversion : <class 'float'>\n",
      "Type après conversion : <class 'int'>\n"
     ]
    }
   ],
   "source": [
    "# Déclaration d'un nombre flottant\n",
    "nombre_flottant = 3.14159\n",
    "\n",
    "# Conversion du nombre flottant en entier\n",
    "nombre_entier = int(nombre_flottant)\n",
    "\n",
    "# Affichage des résultats\n",
    "print(f\"Nombre flottant original : {nombre_flottant}\")\n",
    "print(f\"Nombre converti en entier : {nombre_entier}\")\n",
    "print(f\"Type avant conversion : {type(nombre_flottant)}\")\n",
    "print(f\"Type après conversion : {type(nombre_entier)}\")"
   ]
  },
  {
   "cell_type": "markdown",
   "metadata": {},
   "source": [
    "### Exercice 2\n",
    "Écrivez un programme Python qui compte le nombre de caractères dans une chaîne donnée par l'utilisateur et affiche le résultat."
   ]
  },
  {
   "cell_type": "code",
   "execution_count": 9,
   "metadata": {},
   "outputs": [
    {
     "name": "stdout",
     "output_type": "stream",
     "text": [
      "La chaîne 'something not really new' contient 24 caractères.\n"
     ]
    }
   ],
   "source": [
    "# Demande à l'utilisateur de saisir une chaîne de caractères\n",
    "chaine = input(\"Entrez une chaîne de caractères : \")\n",
    "\n",
    "# Compte le nombre de caractères\n",
    "nombre_caracteres = len(chaine)\n",
    "\n",
    "# Affichage du résultat\n",
    "print(f\"La chaîne '{chaine}' contient {nombre_caracteres} caractères.\")"
   ]
  },
  {
   "cell_type": "markdown",
   "metadata": {},
   "source": [
    "## 7. La manipulation des listes\n",
    "\n",
    "### Exercice\n",
    "Écrivez un programme Python qui prend une liste de nombres donnée par l'utilisateur, calcule leur somme et affiche le résultat."
   ]
  },
  {
   "cell_type": "code",
   "execution_count": 10,
   "metadata": {},
   "outputs": [
    {
     "name": "stdout",
     "output_type": "stream",
     "text": [
      "Liste des nombres : [1.0, 2.0, 3.0, 4.0, 5.0, 6.0, 7.0, 8.0, 9.0]\n",
      "La somme des nombres est : 45.0\n"
     ]
    }
   ],
   "source": [
    "# Demande à l'utilisateur de saisir les nombres séparés par des espaces\n",
    "entree = input(\"Entrez une liste de nombres séparés par des espaces : \")\n",
    "\n",
    "# Conversion de la chaîne en liste de nombres\n",
    "liste_nombres = [float(x) for x in entree.split()]\n",
    "\n",
    "# Calcul de la somme\n",
    "somme = sum(liste_nombres)\n",
    "\n",
    "# Affichage des résultats\n",
    "print(f\"Liste des nombres : {liste_nombres}\")\n",
    "print(f\"La somme des nombres est : {somme}\")\n"
   ]
  },
  {
   "cell_type": "markdown",
   "metadata": {},
   "source": [
    "# Partie 2 : Structures conditionnelles\n",
    "\n",
    "## Exercice 1\n",
    "Écrivez un programme Python qui demande à l'utilisateur de saisir un nombre et vérifie s'il est positif, négatif ou nul."
   ]
  },
  {
   "cell_type": "code",
   "execution_count": 11,
   "metadata": {},
   "outputs": [
    {
     "name": "stdout",
     "output_type": "stream",
     "text": [
      "Le nombre est nul.\n"
     ]
    }
   ],
   "source": [
    "# Demande à l'utilisateur de saisir un nombre\n",
    "nombre = float(input(\"Entrez un nombre : \"))\n",
    "\n",
    "# Vérification si le nombre est positif, négatif ou nul\n",
    "if nombre > 0:\n",
    "    print(\"Le nombre est positif.\")\n",
    "elif nombre < 0:\n",
    "    print(\"Le nombre est négatif.\")\n",
    "else:\n",
    "    print(\"Le nombre est nul.\")\n"
   ]
  },
  {
   "cell_type": "markdown",
   "metadata": {},
   "source": [
    "### Exercice 2 : \n",
    "Écrivez un programme Python qui vérifie si un nombre donné par l'utilisateur est pair ou impair.\n"
   ]
  },
  {
   "cell_type": "code",
   "execution_count": 14,
   "metadata": {},
   "outputs": [
    {
     "name": "stdout",
     "output_type": "stream",
     "text": [
      "Le nombre 21 est impair.\n"
     ]
    }
   ],
   "source": [
    "# Demande à l'utilisateur de saisir un nombre\n",
    "nombre = int(input(\"Entrez un nombre : \"))\n",
    "\n",
    "# Vérification si le nombre est pair ou impair\n",
    "if nombre % 2:\n",
    "    print(f\"Le nombre {nombre} est impair.\")\n",
    "else:\n",
    "    print(f\"Le nombre {nombre} est pair.\")\n"
   ]
  },
  {
   "cell_type": "markdown",
   "metadata": {},
   "source": [
    "# Partie 3 : Déclarations de fonctions\n",
    "### Exercice 1: \n",
    "Écrivez une fonction Python appelée `calcul_moyenne` qui prend deux nombres en argument et retourne leur moyenne.\n"
   ]
  },
  {
   "cell_type": "code",
   "execution_count": 1,
   "metadata": {},
   "outputs": [
    {
     "name": "stdout",
     "output_type": "stream",
     "text": [
      "La moyenne de 10.0 et 20.0 est : 15.0\n"
     ]
    }
   ],
   "source": [
    "# Définition de la fonction calcul_moyenne\n",
    "def calcul_moyenne(nombre1: float, nombre2: float) -> float:\n",
    "    return (nombre1 + nombre2) / 2\n",
    "\n",
    "# Demande à l'utilisateur de saisir deux nombres\n",
    "nombre1 = float(input(\"Entrez le premier nombre : \"))\n",
    "nombre2 = float(input(\"Entrez le deuxième nombre : \"))\n",
    "\n",
    "# Exemple d'utilisation de la fonction\n",
    "print(f\"La moyenne de {nombre1} et {nombre2} est : {calcul_moyenne(nombre1, nombre2)}\")\n"
   ]
  },
  {
   "cell_type": "markdown",
   "metadata": {},
   "source": [
    "### Exercice 2 : \n",
    "Écrivez une fonction Python appelée `diviser` qui prend deux nombres en argument et retourne le résultat de la division. Si le dénominateur est égal à zéro, affichez un message d'erreur.\n"
   ]
  },
  {
   "cell_type": "code",
   "execution_count": 18,
   "metadata": {},
   "outputs": [
    {
     "name": "stdout",
     "output_type": "stream",
     "text": [
      "La division de 20.0 sur 5.0 est : 4.0\n",
      "La division de 20.0 sur 0 est : Erreur : Division par zéro impossible\n"
     ]
    }
   ],
   "source": [
    "## Définition de la fonction diviser\n",
    "def diviser(nombre1: float, nombre2: float) -> float:\n",
    "    if nombre2 == 0:\n",
    "        return(\"Erreur : Division par zéro impossible\")\n",
    "    return nombre1 / nombre2\n",
    "\n",
    "\n",
    "\n",
    "# Demande à l'utilisateur de saisir deux nombres\n",
    "nombre1 = float(input(\"Entrez le premier nombre : \"))\n",
    "nombre2 = float(input(\"Entrez le deuxième nombre : \"))\n",
    "\n",
    "# Exemple d'utilisation de la fonction\n",
    "print(f\"La division de {nombre1} sur {nombre2} est : {diviser(nombre1, nombre2)}\")\n",
    "print(f\"La division de {nombre1} sur {0} est : {diviser(nombre1, 0)}\") # Cas de division par zéro\n"
   ]
  },
  {
   "cell_type": "markdown",
   "metadata": {},
   "source": [
    "# Partie 4 : Déclarations des variables\n",
    "### Exercice 1: \n",
    "Déclarez une variable `nom` et assignez-lui votre prénom, puis affichez-la.\n"
   ]
  },
  {
   "cell_type": "code",
   "execution_count": 1,
   "metadata": {},
   "outputs": [
    {
     "name": "stdout",
     "output_type": "stream",
     "text": [
      "My name is : chicka chicka slim shady\n"
     ]
    }
   ],
   "source": [
    "# Déclaration de la variable nom\n",
    "nom = \"chicka chicka slim shady\"\n",
    "\n",
    "# Affichage du nom\n",
    "print(f\"My name is : {nom}\")\n"
   ]
  },
  {
   "cell_type": "markdown",
   "metadata": {},
   "source": [
    "### Exerice 2: \n",
    "Déclarez deux variables `x` et `y`, assignez-leur des valeurs, puis échangez les valeurs des deux variables et affichez-les."
   ]
  },
  {
   "cell_type": "code",
   "execution_count": 3,
   "metadata": {},
   "outputs": [
    {
     "name": "stdout",
     "output_type": "stream",
     "text": [
      "la nouvelle valeur de x est 10\n",
      "la nouvelle valeur de y est 1\n"
     ]
    }
   ],
   "source": [
    "# Déclaration des deux variables\n",
    "x = 1\n",
    "y = 10\n",
    "\n",
    "# Echange des valeurs\n",
    "x,y = y,x\n",
    "\n",
    "# Affichage des noucelles valeurs\n",
    "print(f\"la nouvelle valeur de x est {x}\")\n",
    "print(f\"la nouvelle valeur de y est {y}\")"
   ]
  },
  {
   "cell_type": "markdown",
   "metadata": {},
   "source": [
    "# Partie 5 : Opérateurs\n",
    "### Exercice 1 : \n",
    "Écrivez un programme Python qui demande à l'utilisateur de saisir deux nombres et affiche leur somme.\n"
   ]
  },
  {
   "cell_type": "code",
   "execution_count": 5,
   "metadata": {},
   "outputs": [
    {
     "name": "stdout",
     "output_type": "stream",
     "text": [
      "La somme de 10.0 et 20.0 est : 30.0\n"
     ]
    }
   ],
   "source": [
    "# Demande à l'utilisateur de saisir deux nombres\n",
    "nombre1 = float(input(\"Entrez le premier nombre : \"))\n",
    "nombre2 = float(input(\"Entrez le deuxième nombre : \"))\n",
    "\n",
    "# Affichage de la somme\n",
    "print(f\"La somme de {nombre1} et {nombre2} est : {nombre1 + nombre2}\")"
   ]
  },
  {
   "cell_type": "markdown",
   "metadata": {},
   "source": [
    "### Exercice 2 : \n",
    "Écrivez un programme Python qui vérifie si un nombre donné par l'utilisateur est pair ou impair."
   ]
  },
  {
   "cell_type": "code",
   "execution_count": 7,
   "metadata": {},
   "outputs": [
    {
     "name": "stdout",
     "output_type": "stream",
     "text": [
      "Le nombre -1 est impair.\n"
     ]
    }
   ],
   "source": [
    "# Demande à l'utilisateur de saisir un nombre\n",
    "nombre = int(input(\"Entrez un nombre : \"))\n",
    "\n",
    "# Vérification si le nombre est pair ou impair\n",
    "if nombre % 2:\n",
    "    print(f\"Le nombre {nombre} est impair.\")\n",
    "else:\n",
    "    print(f\"Le nombre {nombre} est pair.\")\n"
   ]
  },
  {
   "cell_type": "markdown",
   "metadata": {},
   "source": [
    "# Partie 6 : Conversion de types de données\n",
    "### Exercice 1 : \n",
    "Écrivez un programme Python qui demande à l'utilisateur de saisir un nombre entier et le convertit en flottant, puis affiche le résultat.\n"
   ]
  },
  {
   "cell_type": "code",
   "execution_count": 20,
   "metadata": {},
   "outputs": [
    {
     "name": "stdout",
     "output_type": "stream",
     "text": [
      "Nombre entier original : 21\n",
      "Nombre converti en flottant : 21.0\n",
      "Type avant conversion : <class 'int'>\n",
      "Type après conversion : <class 'float'>\n"
     ]
    }
   ],
   "source": [
    "# Demande à l'utilisateur de saisir un entier\n",
    "nombre = int(input(\"Entrez un nombre entier : \"))\n",
    "\n",
    "# Conversion de l'entier en flottant\n",
    "nombre_flottant = float(nombre)\n",
    "\n",
    "# Affichage des résultats\n",
    "print(f\"Nombre entier original : {nombre}\")\n",
    "print(f\"Nombre converti en flottant : {nombre_flottant}\")\n",
    "print(f\"Type avant conversion : {type(nombre)}\")\n",
    "print(f\"Type après conversion : {type(nombre_flottant)}\")"
   ]
  },
  {
   "cell_type": "markdown",
   "metadata": {},
   "source": [
    "### Exercice 2 : \n",
    "Écrivez un programme Python qui convertit une liste de nombres en une chaîne de caractères et affiche le résultat."
   ]
  },
  {
   "cell_type": "code",
   "execution_count": 21,
   "metadata": {},
   "outputs": [
    {
     "name": "stdout",
     "output_type": "stream",
     "text": [
      "La liste convertie en chaîne de caractères : 1, 2, 3, 4, 5, 6, 7, 8, 9\n"
     ]
    }
   ],
   "source": [
    "# Déclaration d'une liste de nombres\n",
    "liste_nombres = [1, 2, 3, 4, 5, 6, 7, 8, 9]\n",
    "\n",
    "# Conversion de la liste en chaîne de caractères\n",
    "chaine_nombres = ', '.join(map(str, liste_nombres))\n",
    "\n",
    "# Affichage du résultat\n",
    "print(f\"La liste convertie en chaîne de caractères : {chaine_nombres}\")"
   ]
  }
 ],
 "metadata": {
  "kernelspec": {
   "display_name": "venv",
   "language": "python",
   "name": "python3"
  },
  "language_info": {
   "codemirror_mode": {
    "name": "ipython",
    "version": 3
   },
   "file_extension": ".py",
   "mimetype": "text/x-python",
   "name": "python",
   "nbconvert_exporter": "python",
   "pygments_lexer": "ipython3",
   "version": "3.10.11"
  }
 },
 "nbformat": 4,
 "nbformat_minor": 2
}
