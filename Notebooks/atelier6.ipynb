{
 "cells": [
  {
   "cell_type": "markdown",
   "metadata": {},
   "source": [
    "# Atelier Création d’une application à Interface Graphique avec Tkinter"
   ]
  },
  {
   "cell_type": "markdown",
   "metadata": {},
   "source": [
    "### Exercice 1 :\n",
    "  Créez une application GUI simple qui affiche une fenêtre avec un bouton \"Cliquez ici !\" et un label vide. Lorsque le bouton est cliqué, le texte \"Bonjour !\" doit s'afficher dans le label."
   ]
  },
  {
   "cell_type": "code",
   "execution_count": 3,
   "metadata": {},
   "outputs": [],
   "source": [
    "import tkinter as tk\n",
    "\n",
    "# Création de la fenêtre principale\n",
    "window = tk.Tk()\n",
    "window.title(\"Application Simple\")\n",
    "\n",
    "# Création du label vide\n",
    "label = tk.Label(window, text=\"\")\n",
    "label.pack(pady=10)\n",
    "\n",
    "# Fonction appelée lors du clic sur le bouton\n",
    "def on_click():\n",
    "    label.config(text=\"Bonjour !\")\n",
    "\n",
    "# Création du bouton\n",
    "button = tk.Button(window, text=\"Cliquez ici !\", command=on_click)\n",
    "button.pack(pady=10)\n",
    "\n",
    "# Lancement de la boucle principale\n",
    "window.mainloop()\n"
   ]
  },
  {
   "cell_type": "markdown",
   "metadata": {},
   "source": [
    "### Exercice 2 :\n",
    " Concevez une application qui permet à l'utilisateur de saisir son nom dans un champ de texte. Après avoir appuyé sur un bouton, une nouvelle fenêtre doit apparaître avec un message de bienvenue personnalisé utilisant le nom saisi."
   ]
  },
  {
   "cell_type": "code",
   "execution_count": 6,
   "metadata": {},
   "outputs": [],
   "source": [
    "import tkinter as tk\n",
    "\n",
    "# Création de la fenêtre principale\n",
    "window = tk.Tk()\n",
    "window.title(\"Saisie du nom\")\n",
    "\n",
    "# Création d'un label pour les instructions\n",
    "instruction_label = tk.Label(window, text=\"Entrez votre nom:\")\n",
    "instruction_label.pack(pady=5)\n",
    "\n",
    "# Création du champ de texte\n",
    "entry = tk.Entry(window, width=20)\n",
    "entry.pack(pady=5)\n",
    "\n",
    "# Fonction appelée lors du clic sur le bouton\n",
    "def on_click():\n",
    "    name = entry.get()\n",
    "    if name.strip() != \"\":  # Vérifie que le nom n'est pas vide\n",
    "        welcome_window = tk.Toplevel(window)\n",
    "        welcome_window.title(\"Message de bienvenue\")\n",
    "        welcome_window.geometry(\"300x100\")  # Taille fixe pour la fenêtre\n",
    "        welcome_label = tk.Label(welcome_window, text=f\"Bienvenue, {name} !\", font=(\"Arial\", 12))\n",
    "        welcome_label.pack(expand=True)\n",
    "\n",
    "# Création du bouton\n",
    "button = tk.Button(window, text=\"Valider\", command=on_click)\n",
    "button.pack(pady=10)\n",
    "\n",
    "# Lancement de la boucle principale\n",
    "window.mainloop()"
   ]
  },
  {
   "cell_type": "markdown",
   "metadata": {},
   "source": [
    "### Exercice 3 :\n",
    " Élaborez une application qui présente une liste déroulante (combobox) avec plusieurs options (par exemple, des couleurs). Lorsque l'utilisateur sélectionne une option et clique sur un bouton, la couleur de fond de la fenêtre doit changer en fonction de l'option sélectionnée."
   ]
  },
  {
   "cell_type": "code",
   "execution_count": 7,
   "metadata": {},
   "outputs": [],
   "source": [
    "import tkinter as tk\n",
    "from tkinter import ttk\n",
    "\n",
    "# Main window setup\n",
    "window = tk.Tk()\n",
    "window.title(\"Sélecteur de couleurs\")\n",
    "window.geometry(\"300x200\")\n",
    "\n",
    "# Dictionary of available colors\n",
    "colors = {\n",
    "    \"Rouge\": \"red\",\n",
    "    \"Bleu\": \"blue\", \n",
    "    \"Vert\": \"green\",\n",
    "    \"Jaune\": \"yellow\",\n",
    "    \"Orange\": \"orange\"\n",
    "}\n",
    "\n",
    "instruction_label = tk.Label(window, text=\"Choisissez une couleur:\")\n",
    "instruction_label.pack(pady=10)\n",
    "\n",
    "color_combobox = ttk.Combobox(window, values=list(colors.keys()))\n",
    "color_combobox.pack(pady=5)\n",
    "color_combobox.set(\"Rouge\")\n",
    "\n",
    "# Function to change window background color\n",
    "def change_color():\n",
    "    selected = color_combobox.get()\n",
    "    window.configure(bg=colors[selected])\n",
    "\n",
    "button = tk.Button(window, text=\"Appliquer la couleur\", command=change_color)\n",
    "button.pack(pady=10)\n",
    "\n",
    "window.mainloop()\n",
    "\n"
   ]
  },
  {
   "cell_type": "markdown",
   "metadata": {},
   "source": [
    "### Exercice 4 :\n",
    " Créez une calculatrice simple avec une interface graphique. L'utilisateur devrait pouvoir saisir deux nombres dans des champs de texte, sélectionner une opération (addition, soustraction, multiplication, division) à l'aide de boutons radio, puis voir le résultat dans un label après avoir cliqué sur un bouton \"Calculer\".\n"
   ]
  },
  {
   "cell_type": "code",
   "execution_count": 9,
   "metadata": {},
   "outputs": [],
   "source": [
    "import tkinter as tk\n",
    "# Main window setup\n",
    "window = tk.Tk()\n",
    "window.title(\"Calculatrice Simple\")\n",
    "window.geometry(\"300x400\")\n",
    "\n",
    "# Input fields\n",
    "num1_label = tk.Label(window, text=\"Premier nombre:\")\n",
    "num1_label.pack(pady=5)\n",
    "num1_entry = tk.Entry(window)\n",
    "num1_entry.pack()\n",
    "\n",
    "num2_label = tk.Label(window, text=\"Deuxième nombre:\")\n",
    "num2_label.pack(pady=5)\n",
    "num2_entry = tk.Entry(window)\n",
    "num2_entry.pack()\n",
    "\n",
    "# Operation selection using radio buttons\n",
    "operation_var = tk.StringVar()\n",
    "operation_var.set(\"+\")\n",
    "\n",
    "operations_frame = tk.Frame(window)\n",
    "operations_frame.pack(pady=10)\n",
    "\n",
    "tk.Radiobutton(operations_frame, text=\"+\", variable=operation_var, value=\"+\").pack(side=tk.LEFT)\n",
    "tk.Radiobutton(operations_frame, text=\"-\", variable=operation_var, value=\"-\").pack(side=tk.LEFT)\n",
    "tk.Radiobutton(operations_frame, text=\"*\", variable=operation_var, value=\"*\").pack(side=tk.LEFT)\n",
    "tk.Radiobutton(operations_frame, text=\"/\", variable=operation_var, value=\"/\").pack(side=tk.LEFT)\n",
    "\n",
    "# Result display\n",
    "result_label = tk.Label(window, text=\"Résultat: \")\n",
    "result_label.pack(pady=10)\n",
    "\n",
    "# Calculate function\n",
    "def calculate():\n",
    "    try:\n",
    "        num1 = float(num1_entry.get())\n",
    "        num2 = float(num2_entry.get())\n",
    "        operation = operation_var.get()\n",
    "        \n",
    "        if operation == \"+\":\n",
    "            result = num1 + num2\n",
    "        elif operation == \"-\":\n",
    "            result = num1 - num2\n",
    "        elif operation == \"*\":\n",
    "            result = num1 * num2\n",
    "        elif operation == \"/\" and num2 != 0:\n",
    "            result = num1 / num2\n",
    "        else:\n",
    "            result = \"Division par zéro impossible\"\n",
    "            \n",
    "        result_label.config(text=f\"Résultat: {result}\")\n",
    "    except ValueError:\n",
    "        result_label.config(text=\"Erreur: Entrée invalide\")\n",
    "\n",
    "# Calculate button\n",
    "calc_button = tk.Button(window, text=\"Calculer\", command=calculate)\n",
    "calc_button.pack(pady=10)\n",
    "\n",
    "window.mainloop()\n"
   ]
  },
  {
   "cell_type": "markdown",
   "metadata": {},
   "source": [
    "### Exercice 5 :\n",
    " Concevez une application qui affiche une image dans une fenêtre lorsque l'utilisateur sélectionne un fichier image à partir de son système de fichiers à l'aide d'un bouton \"Parcourir\". Assurez-vous que l'application peut gérer différents formats d'images (par exemple, JPG, PNG)."
   ]
  }
 ],
 "metadata": {
  "kernelspec": {
   "display_name": "venv",
   "language": "python",
   "name": "python3"
  },
  "language_info": {
   "codemirror_mode": {
    "name": "ipython",
    "version": 3
   },
   "file_extension": ".py",
   "mimetype": "text/x-python",
   "name": "python",
   "nbconvert_exporter": "python",
   "pygments_lexer": "ipython3",
   "version": "3.10.11"
  }
 },
 "nbformat": 4,
 "nbformat_minor": 2
}
