{
 "cells": [
  {
   "cell_type": "markdown",
   "metadata": {},
   "source": [
    "# Atelier Python : L’approche orientée objet"
   ]
  },
  {
   "cell_type": "markdown",
   "metadata": {},
   "source": [
    "### Exercice 1:\n",
    "Créez une classe `Personne` avec un attribut `nom`. Instanciez deux objets `personne1` et `personne2` avec les noms \"Alice\" et \"Bob\" respectivement."
   ]
  },
  {
   "cell_type": "code",
   "execution_count": 25,
   "metadata": {},
   "outputs": [],
   "source": [
    "class Personne:\n",
    "    def __init__(self, nom: str) -> None: # Constructeur\n",
    "        self.nom = nom\n",
    "    \n",
    "    def __str__(self) -> str:\n",
    "        return f\"Personne : {self.nom}\"\n"
   ]
  },
  {
   "cell_type": "code",
   "execution_count": 4,
   "metadata": {},
   "outputs": [
    {
     "name": "stdout",
     "output_type": "stream",
     "text": [
      "Personne : Alice\n",
      "Personne : Bob\n"
     ]
    }
   ],
   "source": [
    "personne1 = Personne(\"Alice\")\n",
    "personne2 = Personne(\"Bob\")\n",
    "\n",
    "print(personne1)\n",
    "print(personne2)"
   ]
  },
  {
   "cell_type": "markdown",
   "metadata": {},
   "source": [
    "### Exercice 2:\n",
    "Ajoutez une méthode `presentation` à la classe `Personne` qui affiche \"Je m'appelle [nom]\"."
   ]
  },
  {
   "cell_type": "code",
   "execution_count": 26,
   "metadata": {},
   "outputs": [],
   "source": [
    "class Personne:\n",
    "    def __init__(self, nom: str) -> None: # Constructeur\n",
    "        self.nom = nom\n",
    "    \n",
    "    def presentation(self) -> None:\n",
    "        print(f\"Je m'appelle {self.nom}\")\n",
    "    \n",
    "    def __str__(self) -> str:\n",
    "        return f\"Personne : {self.nom}\""
   ]
  },
  {
   "cell_type": "code",
   "execution_count": 12,
   "metadata": {},
   "outputs": [
    {
     "name": "stdout",
     "output_type": "stream",
     "text": [
      "Je m'appelle Alice\n"
     ]
    }
   ],
   "source": [
    "personne1 = Personne(\"Alice\")\n",
    "\n",
    "personne1.presentation()"
   ]
  },
  {
   "cell_type": "markdown",
   "metadata": {},
   "source": [
    "### Exercice 3:\n",
    "Créez une classe `Etudiant` qui hérite de la classe `Personne`. Ajoutez un attribut `annee` à la classe `Etudiant` et une méthode `info` qui affiche le nom et l'année de l'étudiant.\n"
   ]
  },
  {
   "cell_type": "code",
   "execution_count": 28,
   "metadata": {},
   "outputs": [],
   "source": [
    "class Etudiant(Personne):\n",
    "    def __init__(self, nom: str, annee: int) -> None:\n",
    "        super().__init__(nom)\n",
    "        self.annee = annee\n",
    "\n",
    "    def info(self) -> None:\n",
    "        print(f\"Nom : {self.nom}\\nAnnee : {self.annee}\")\n",
    "    \n",
    "    def __str__(self) -> str:\n",
    "        return f\"Etudiant : {self.nom} , {self.annee}\""
   ]
  },
  {
   "cell_type": "code",
   "execution_count": 21,
   "metadata": {},
   "outputs": [
    {
     "name": "stdout",
     "output_type": "stream",
     "text": [
      "Etudiant : Peter , 2024\n",
      "Nom : Peter\n",
      "Annee : 2024\n"
     ]
    }
   ],
   "source": [
    "etudiant1 = Etudiant(\"Peter\",2024)\n",
    "print(etudiant1)\n",
    "etudiant1.info()"
   ]
  },
  {
   "cell_type": "markdown",
   "metadata": {},
   "source": [
    "### Exercice 4:\n",
    "Créez une classe `Rectangle` avec des attributs `longueur` et `largeur` et une méthode `aire` qui retourne l'aire du rectangle."
   ]
  },
  {
   "cell_type": "code",
   "execution_count": 35,
   "metadata": {},
   "outputs": [],
   "source": [
    "class Rectangle:\n",
    "    def __init__(self, longueur: float, largeur: float) -> None:\n",
    "        self.longueur = longueur\n",
    "        self.largeur = largeur\n",
    "    \n",
    "    def aire(self) -> float:\n",
    "        return self.longueur * self.largeur\n",
    "    \n",
    "    def __str__(self) -> str:\n",
    "        return f\"Rectangle de dimentions {self.longueur} x {self.largeur} et d'aire {self.aire()}\""
   ]
  },
  {
   "cell_type": "code",
   "execution_count": 37,
   "metadata": {},
   "outputs": [
    {
     "name": "stdout",
     "output_type": "stream",
     "text": [
      "Rectangle de dimentions 10 x 20 et d'aire 200\n"
     ]
    }
   ],
   "source": [
    "rectangle = Rectangle(10,20)\n",
    "\n",
    "print(rectangle)"
   ]
  },
  {
   "cell_type": "markdown",
   "metadata": {},
   "source": [
    "### Exercice 5: (on utilisera l’importation de la bibliothéque ‘math’)\n",
    "Créez une classe `Cercle` avec un attribut `rayon` et des méthodes `aire` et `perimetre` pour calculer respectivement l'aire et le périmètre du cercle.\n"
   ]
  },
  {
   "cell_type": "code",
   "execution_count": 44,
   "metadata": {},
   "outputs": [],
   "source": [
    "import math\n",
    "\n",
    "class Cercle:\n",
    "    def __init__(self, rayon: float) -> None:\n",
    "        self.rayon = rayon\n",
    "    \n",
    "    def aire(self) -> float:\n",
    "        return math.pi * (self.rayon)**2\n",
    "    \n",
    "    def perimetre(self) -> float:\n",
    "        return 2* math.pi * self.rayon\n",
    "\n",
    "    def __str__(self) -> str:\n",
    "        return f\"Cercle de Rayon {self.rayon} et d'aire {self.aire()} et de perimetre {self.perimetre()}\""
   ]
  },
  {
   "cell_type": "code",
   "execution_count": 45,
   "metadata": {},
   "outputs": [
    {
     "name": "stdout",
     "output_type": "stream",
     "text": [
      "Cercle de Rayon 1 et d'aire 3.141592653589793 et de perimetre 6.283185307179586\n",
      "Cercle de Rayon 4 et d'aire 50.26548245743669 et de perimetre 25.132741228718345\n"
     ]
    }
   ],
   "source": [
    "cercle1 = Cercle(1)\n",
    "cercle2 = Cercle(4)\n",
    "print(cercle1)\n",
    "print(cercle2)"
   ]
  },
  {
   "cell_type": "markdown",
   "metadata": {},
   "source": [
    "### Exercice 6:\n",
    "Créez une classe `Animal` avec une méthode `parler` qui affiche \"Je suis un animal\".\n"
   ]
  },
  {
   "cell_type": "code",
   "execution_count": 49,
   "metadata": {},
   "outputs": [],
   "source": [
    "class Animal:\n",
    "    def __init__(self) -> None:\n",
    "        pass\n",
    "\n",
    "    def parler(self) -> None:\n",
    "        print(\"Je suis un animal\")\n",
    "    \n",
    "    def __str__(self) -> str:\n",
    "        return \"Je suis un animal\""
   ]
  },
  {
   "cell_type": "code",
   "execution_count": 50,
   "metadata": {},
   "outputs": [
    {
     "name": "stdout",
     "output_type": "stream",
     "text": [
      "Je suis un animal\n",
      "Je suis un animal\n"
     ]
    }
   ],
   "source": [
    "animal = Animal()\n",
    "print(animal)\n",
    "animal.parler()"
   ]
  },
  {
   "cell_type": "markdown",
   "metadata": {},
   "source": [
    "### Exercice 7:\n",
    "Créez une classe `Chien` qui hérite de la classe `Animal` avec une méthode `parler` qui affiche \"Je suis un chien\".\n"
   ]
  },
  {
   "cell_type": "code",
   "execution_count": 51,
   "metadata": {},
   "outputs": [],
   "source": [
    "class Chien(Animal):\n",
    "    def __init__(self) -> None:\n",
    "        super().__init__()\n",
    "    \n",
    "    def parler(self) -> None:\n",
    "        print(\"Je suis un chien\")\n",
    "    \n",
    "    def __str__(self) -> str:\n",
    "        return \"Je suis un chien\""
   ]
  },
  {
   "cell_type": "code",
   "execution_count": 52,
   "metadata": {},
   "outputs": [
    {
     "name": "stdout",
     "output_type": "stream",
     "text": [
      "Je suis un chien\n",
      "Je suis un chien\n"
     ]
    }
   ],
   "source": [
    "chien = Chien()\n",
    "print(chien)\n",
    "chien.parler()"
   ]
  },
  {
   "cell_type": "markdown",
   "metadata": {},
   "source": [
    "### Exercice 8:\n",
    "Créez une classe `Chat` qui hérite de la classe `Animal` avec une méthode `parler` qui affiche \"Je suis un chat\".\n"
   ]
  },
  {
   "cell_type": "code",
   "execution_count": 53,
   "metadata": {},
   "outputs": [],
   "source": [
    "class Chat(Animal):\n",
    "    def __init__(self) -> None:\n",
    "        super().__init__()\n",
    "    \n",
    "    def parler(self) -> None:\n",
    "        print(\"Je suis un chat\")\n",
    "    \n",
    "    def __str__(self) -> str:\n",
    "        return \"Je suis un chat\""
   ]
  },
  {
   "cell_type": "code",
   "execution_count": 54,
   "metadata": {},
   "outputs": [
    {
     "name": "stdout",
     "output_type": "stream",
     "text": [
      "Je suis un chat\n",
      "Je suis un chat\n"
     ]
    }
   ],
   "source": [
    "chat = Chat()\n",
    "print(chat)\n",
    "chat.parler()"
   ]
  },
  {
   "cell_type": "markdown",
   "metadata": {},
   "source": [
    "### Exercice 9:\n",
    "Créez une classe `Vehicule` avec un attribut `vitesse` initialisé à 0 et des méthodes `accelerer` et `ralentir` qui modifient la vitesse.\n"
   ]
  },
  {
   "cell_type": "code",
   "execution_count": 55,
   "metadata": {},
   "outputs": [],
   "source": [
    "class Vehicule:\n",
    "    def __init__(self, vitesse: int = 0) -> None:\n",
    "        self.vitesse = vitesse\n",
    "    \n",
    "    def accelerer(self, increment: int) -> None:\n",
    "        self.vitesse += increment\n",
    "    \n",
    "    def ralentir(self, decrement: int) -> None:\n",
    "        self.vitesse -= decrement\n",
    "        if self.vitesse < 0 :\n",
    "            self.vitesse = 0\n",
    "    \n",
    "    def __str__(self) -> str:\n",
    "        return f\"Véhicule avec une vitesse de {self.vitesse} km/h\"\n",
    "    "
   ]
  },
  {
   "cell_type": "code",
   "execution_count": 56,
   "metadata": {},
   "outputs": [
    {
     "name": "stdout",
     "output_type": "stream",
     "text": [
      "Véhicule avec une vitesse de 0 km/h\n",
      "Véhicule avec une vitesse de 60 km/h\n"
     ]
    }
   ],
   "source": [
    "vehicule1 = Vehicule()\n",
    "vehicule2 = Vehicule(50)\n",
    "\n",
    "vehicule1.ralentir(20)\n",
    "vehicule2.accelerer(10)\n",
    "\n",
    "print(vehicule1)\n",
    "print(vehicule2)"
   ]
  },
  {
   "cell_type": "markdown",
   "metadata": {},
   "source": [
    "### Exercice 10:\n",
    "Créez une classe `Voiture` qui hérite de la classe `Vehicule` avec un attribut `modele` et une méthode `afficher_modele` qui affiche le modèle de la voiture"
   ]
  },
  {
   "cell_type": "code",
   "execution_count": 62,
   "metadata": {},
   "outputs": [],
   "source": [
    "class Voiture(Vehicule):\n",
    "    def __init__(self, modele: str, vitesse: int = 0) -> None:\n",
    "        super().__init__(vitesse)\n",
    "        self.modele = modele\n",
    "    \n",
    "    def afficher_modele(self) -> None:\n",
    "        print(f\"Voiture de modele {self.modele}\")\n",
    "    \n",
    "    def __str__(self) -> str:\n",
    "        return f\"Voiture de modele {self.modele} et avec une vitesse de {self.vitesse} km/h\""
   ]
  },
  {
   "cell_type": "code",
   "execution_count": 63,
   "metadata": {},
   "outputs": [
    {
     "name": "stdout",
     "output_type": "stream",
     "text": [
      "Voiture de modele Toyota\n",
      "Voiture de modele Toyota et avec une vitesse de 0 km/h\n"
     ]
    }
   ],
   "source": [
    "voiture = Voiture(\"Toyota\")\n",
    "\n",
    "voiture.afficher_modele()\n",
    "print(voiture)"
   ]
  }
 ],
 "metadata": {
  "kernelspec": {
   "display_name": "venv",
   "language": "python",
   "name": "python3"
  },
  "language_info": {
   "codemirror_mode": {
    "name": "ipython",
    "version": 3
   },
   "file_extension": ".py",
   "mimetype": "text/x-python",
   "name": "python",
   "nbconvert_exporter": "python",
   "pygments_lexer": "ipython3",
   "version": "3.10.11"
  },
  "orig_nbformat": 4
 },
 "nbformat": 4,
 "nbformat_minor": 2
}
